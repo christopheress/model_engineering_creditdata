{
 "cells": [
  {
   "cell_type": "code",
   "execution_count": 17,
   "metadata": {},
   "outputs": [],
   "source": [
    "import pandas as pd\n",
    "import matplotlib.pyplot as plt\n",
    "import seaborn as sns\n",
    "from datetime import timedelta\n",
    "import numpy as np\n",
    "\n",
    "# Load the dataset from the Excel file\n",
    "file_path_psp = '../data/raw/PSP_Jan_Feb_2019.xlsx'\n",
    "file_path_fee = '../data/raw/PSP_Fees.xlsx'\n",
    "file_path_processed_data = '../data/processed/PSP_model_data.xlsx'\n",
    "df = pd.read_excel(file_path_psp)\n",
    "df_fee = pd.read_excel(file_path_fee)"
   ]
  },
  {
   "cell_type": "markdown",
   "metadata": {},
   "source": [
    "# Define attempts"
   ]
  },
  {
   "cell_type": "markdown",
   "metadata": {},
   "source": [
    "* Definition:"
   ]
  },
  {
   "cell_type": "code",
   "execution_count": 18,
   "metadata": {},
   "outputs": [
    {
     "data": {
      "text/plain": "   index                tmsp      country  amount  success         PSP  \\\n0      0 2019-01-01 00:01:11      Germany      89        0     UK_Card   \n1      1 2019-01-01 00:01:17      Germany      89        1     UK_Card   \n2      2 2019-01-01 00:02:49      Germany     238        0     UK_Card   \n3      3 2019-01-01 00:03:13      Germany     238        1     UK_Card   \n4      4 2019-01-01 00:04:33      Austria     124        0  Simplecard   \n5      5 2019-01-01 00:06:41  Switzerland     282        0     UK_Card   \n6      6 2019-01-01 00:07:19  Switzerland     282        0  Simplecard   \n7      7 2019-01-01 00:08:46      Germany     117        1     UK_Card   \n8      8 2019-01-01 00:09:56  Switzerland     174        0  Simplecard   \n9      9 2019-01-01 00:10:49  Switzerland     174        0  Simplecard   \n\n   3D_secured    card  attempts  \n0           0    Visa         1  \n1           0    Visa         2  \n2           1  Diners         1  \n3           1  Diners         2  \n4           0  Diners         1  \n5           0  Master         1  \n6           0  Master         1  \n7           0  Master         1  \n8           0    Visa         1  \n9           0    Visa         2  ",
      "text/html": "<div>\n<style scoped>\n    .dataframe tbody tr th:only-of-type {\n        vertical-align: middle;\n    }\n\n    .dataframe tbody tr th {\n        vertical-align: top;\n    }\n\n    .dataframe thead th {\n        text-align: right;\n    }\n</style>\n<table border=\"1\" class=\"dataframe\">\n  <thead>\n    <tr style=\"text-align: right;\">\n      <th></th>\n      <th>index</th>\n      <th>tmsp</th>\n      <th>country</th>\n      <th>amount</th>\n      <th>success</th>\n      <th>PSP</th>\n      <th>3D_secured</th>\n      <th>card</th>\n      <th>attempts</th>\n    </tr>\n  </thead>\n  <tbody>\n    <tr>\n      <th>0</th>\n      <td>0</td>\n      <td>2019-01-01 00:01:11</td>\n      <td>Germany</td>\n      <td>89</td>\n      <td>0</td>\n      <td>UK_Card</td>\n      <td>0</td>\n      <td>Visa</td>\n      <td>1</td>\n    </tr>\n    <tr>\n      <th>1</th>\n      <td>1</td>\n      <td>2019-01-01 00:01:17</td>\n      <td>Germany</td>\n      <td>89</td>\n      <td>1</td>\n      <td>UK_Card</td>\n      <td>0</td>\n      <td>Visa</td>\n      <td>2</td>\n    </tr>\n    <tr>\n      <th>2</th>\n      <td>2</td>\n      <td>2019-01-01 00:02:49</td>\n      <td>Germany</td>\n      <td>238</td>\n      <td>0</td>\n      <td>UK_Card</td>\n      <td>1</td>\n      <td>Diners</td>\n      <td>1</td>\n    </tr>\n    <tr>\n      <th>3</th>\n      <td>3</td>\n      <td>2019-01-01 00:03:13</td>\n      <td>Germany</td>\n      <td>238</td>\n      <td>1</td>\n      <td>UK_Card</td>\n      <td>1</td>\n      <td>Diners</td>\n      <td>2</td>\n    </tr>\n    <tr>\n      <th>4</th>\n      <td>4</td>\n      <td>2019-01-01 00:04:33</td>\n      <td>Austria</td>\n      <td>124</td>\n      <td>0</td>\n      <td>Simplecard</td>\n      <td>0</td>\n      <td>Diners</td>\n      <td>1</td>\n    </tr>\n    <tr>\n      <th>5</th>\n      <td>5</td>\n      <td>2019-01-01 00:06:41</td>\n      <td>Switzerland</td>\n      <td>282</td>\n      <td>0</td>\n      <td>UK_Card</td>\n      <td>0</td>\n      <td>Master</td>\n      <td>1</td>\n    </tr>\n    <tr>\n      <th>6</th>\n      <td>6</td>\n      <td>2019-01-01 00:07:19</td>\n      <td>Switzerland</td>\n      <td>282</td>\n      <td>0</td>\n      <td>Simplecard</td>\n      <td>0</td>\n      <td>Master</td>\n      <td>1</td>\n    </tr>\n    <tr>\n      <th>7</th>\n      <td>7</td>\n      <td>2019-01-01 00:08:46</td>\n      <td>Germany</td>\n      <td>117</td>\n      <td>1</td>\n      <td>UK_Card</td>\n      <td>0</td>\n      <td>Master</td>\n      <td>1</td>\n    </tr>\n    <tr>\n      <th>8</th>\n      <td>8</td>\n      <td>2019-01-01 00:09:56</td>\n      <td>Switzerland</td>\n      <td>174</td>\n      <td>0</td>\n      <td>Simplecard</td>\n      <td>0</td>\n      <td>Visa</td>\n      <td>1</td>\n    </tr>\n    <tr>\n      <th>9</th>\n      <td>9</td>\n      <td>2019-01-01 00:10:49</td>\n      <td>Switzerland</td>\n      <td>174</td>\n      <td>0</td>\n      <td>Simplecard</td>\n      <td>0</td>\n      <td>Visa</td>\n      <td>2</td>\n    </tr>\n  </tbody>\n</table>\n</div>"
     },
     "execution_count": 18,
     "metadata": {},
     "output_type": "execute_result"
    }
   ],
   "source": [
    "# Sort the dataset by 'country', 'amount', 'PSP', and 'tmsp'\n",
    "df_sorted = df.sort_values(by=['tmsp', 'country', 'amount', 'PSP']).reset_index(drop=True)\n",
    "\n",
    "# Initialize an empty list to store the 'attempts' values\n",
    "attempts = [1]  # The first row will always have an attempt value of 1\n",
    "\n",
    "# Loop through the sorted DataFrame to calculate the 'attempts'\n",
    "for i in range(1, len(df_sorted)):\n",
    "    row = df_sorted.iloc[i]\n",
    "    prev_row = df_sorted.iloc[i-1]\n",
    "\n",
    "    # Check if 'country', 'amount', and 'PSP' are the same and 'tmsp' is within 60 seconds\n",
    "    if (row['country'] == prev_row['country'] and\n",
    "        row['amount'] == prev_row['amount'] and\n",
    "        row['PSP'] == prev_row['PSP'] and\n",
    "        (row['tmsp'] - prev_row['tmsp']).seconds < 60):\n",
    "        attempts.append(attempts[-1] + 1)\n",
    "    else:\n",
    "        attempts.append(1)\n",
    "\n",
    "# Add the 'attempts' column to the DataFrame\n",
    "df_sorted['attempts'] = attempts\n",
    "\n",
    "# Show the first few rows\n",
    "df_sorted.head(10)"
   ]
  },
  {
   "cell_type": "code",
   "execution_count": 19,
   "metadata": {},
   "outputs": [
    {
     "name": "stderr",
     "output_type": "stream",
     "text": [
      "/Users/christopheressmann/Documents/GitHub/model_engineering_creditdata/venv/lib/python3.10/site-packages/seaborn/_oldcore.py:1498: FutureWarning: is_categorical_dtype is deprecated and will be removed in a future version. Use isinstance(dtype, CategoricalDtype) instead\n",
      "  if pd.api.types.is_categorical_dtype(vector):\n",
      "/Users/christopheressmann/Documents/GitHub/model_engineering_creditdata/venv/lib/python3.10/site-packages/seaborn/_oldcore.py:1498: FutureWarning: is_categorical_dtype is deprecated and will be removed in a future version. Use isinstance(dtype, CategoricalDtype) instead\n",
      "  if pd.api.types.is_categorical_dtype(vector):\n",
      "/Users/christopheressmann/Documents/GitHub/model_engineering_creditdata/venv/lib/python3.10/site-packages/seaborn/_oldcore.py:1498: FutureWarning: is_categorical_dtype is deprecated and will be removed in a future version. Use isinstance(dtype, CategoricalDtype) instead\n",
      "  if pd.api.types.is_categorical_dtype(vector):\n"
     ]
    },
    {
     "data": {
      "text/plain": "<Figure size 1000x600 with 1 Axes>",
      "image/png": "[encoded data removed]"
     },
     "metadata": {},
     "output_type": "display_data"
    },
    {
     "data": {
      "text/plain": "attempts\n1    2772\n2    1270\n3     550\n4     221\n5      72\n6      25\n7       8\n8       1\n9       2\nName: count, dtype: int64"
     },
     "execution_count": 19,
     "metadata": {},
     "output_type": "execute_result"
    }
   ],
   "source": [
    "# Group the data by 'country', 'amount', 'PSP', and 'attempts' and count unique attempts\n",
    "unique_attempts_count = df_sorted.groupby(['country', 'amount', 'PSP'])['attempts'].max().reset_index()\n",
    "unique_attempts_distribution = unique_attempts_count['attempts'].value_counts().sort_index()\n",
    "\n",
    "# Plot the distribution of 'attempts'\n",
    "plt.figure(figsize=(10, 6))\n",
    "sns.barplot(x=unique_attempts_distribution.index, y=unique_attempts_distribution.values, palette=\"Blues_d\")\n",
    "plt.title('Verteilung der Versuche (attempts)')\n",
    "plt.xlabel('Anzahl der Versuche')\n",
    "plt.ylabel('Häufigkeit')\n",
    "plt.show()\n",
    "\n",
    "unique_attempts_distribution"
   ]
  },
  {
   "cell_type": "code",
   "execution_count": 20,
   "metadata": {},
   "outputs": [
    {
     "data": {
      "text/plain": "   index                tmsp  country  amount  success         PSP  \\\n0      0 2019-01-01 00:01:11  Germany      89        0     UK_Card   \n1      1 2019-01-01 00:01:17  Germany      89        1     UK_Card   \n2      2 2019-01-01 00:02:49  Germany     238        0     UK_Card   \n3      3 2019-01-01 00:03:13  Germany     238        1     UK_Card   \n4      4 2019-01-01 00:04:33  Austria     124        0  Simplecard   \n\n   3D_secured    card  attempts  fee  \n0           0    Visa         1  1.0  \n1           0    Visa         2  3.0  \n2           1  Diners         1  1.0  \n3           1  Diners         2  3.0  \n4           0  Diners         1  0.5  ",
      "text/html": "<div>\n<style scoped>\n    .dataframe tbody tr th:only-of-type {\n        vertical-align: middle;\n    }\n\n    .dataframe tbody tr th {\n        vertical-align: top;\n    }\n\n    .dataframe thead th {\n        text-align: right;\n    }\n</style>\n<table border=\"1\" class=\"dataframe\">\n  <thead>\n    <tr style=\"text-align: right;\">\n      <th></th>\n      <th>index</th>\n      <th>tmsp</th>\n      <th>country</th>\n      <th>amount</th>\n      <th>success</th>\n      <th>PSP</th>\n      <th>3D_secured</th>\n      <th>card</th>\n      <th>attempts</th>\n      <th>fee</th>\n    </tr>\n  </thead>\n  <tbody>\n    <tr>\n      <th>0</th>\n      <td>0</td>\n      <td>2019-01-01 00:01:11</td>\n      <td>Germany</td>\n      <td>89</td>\n      <td>0</td>\n      <td>UK_Card</td>\n      <td>0</td>\n      <td>Visa</td>\n      <td>1</td>\n      <td>1.0</td>\n    </tr>\n    <tr>\n      <th>1</th>\n      <td>1</td>\n      <td>2019-01-01 00:01:17</td>\n      <td>Germany</td>\n      <td>89</td>\n      <td>1</td>\n      <td>UK_Card</td>\n      <td>0</td>\n      <td>Visa</td>\n      <td>2</td>\n      <td>3.0</td>\n    </tr>\n    <tr>\n      <th>2</th>\n      <td>2</td>\n      <td>2019-01-01 00:02:49</td>\n      <td>Germany</td>\n      <td>238</td>\n      <td>0</td>\n      <td>UK_Card</td>\n      <td>1</td>\n      <td>Diners</td>\n      <td>1</td>\n      <td>1.0</td>\n    </tr>\n    <tr>\n      <th>3</th>\n      <td>3</td>\n      <td>2019-01-01 00:03:13</td>\n      <td>Germany</td>\n      <td>238</td>\n      <td>1</td>\n      <td>UK_Card</td>\n      <td>1</td>\n      <td>Diners</td>\n      <td>2</td>\n      <td>3.0</td>\n    </tr>\n    <tr>\n      <th>4</th>\n      <td>4</td>\n      <td>2019-01-01 00:04:33</td>\n      <td>Austria</td>\n      <td>124</td>\n      <td>0</td>\n      <td>Simplecard</td>\n      <td>0</td>\n      <td>Diners</td>\n      <td>1</td>\n      <td>0.5</td>\n    </tr>\n  </tbody>\n</table>\n</div>"
     },
     "execution_count": 20,
     "metadata": {},
     "output_type": "execute_result"
    }
   ],
   "source": [
    "# Merge the fees DataFrame with the original dataset based on 'PSP' and 'success'\n",
    "df_merged = pd.merge(df_sorted, df_fee, on=['PSP', 'success'], how='left')\n",
    "\n",
    "# Show the first few rows of the merged DataFrame to verify\n",
    "df_merged.head()"
   ]
  },
  {
   "cell_type": "markdown",
   "metadata": {},
   "source": [
    "# Time-related features"
   ]
  },
  {
   "cell_type": "code",
   "execution_count": 21,
   "metadata": {},
   "outputs": [
    {
     "data": {
      "text/plain": "   index                tmsp  country  amount  success         PSP  \\\n0      0 2019-01-01 00:01:11  Germany      89        0     UK_Card   \n1      1 2019-01-01 00:01:17  Germany      89        1     UK_Card   \n2      2 2019-01-01 00:02:49  Germany     238        0     UK_Card   \n3      3 2019-01-01 00:03:13  Germany     238        1     UK_Card   \n4      4 2019-01-01 00:04:33  Austria     124        0  Simplecard   \n\n   3D_secured    card  attempts  fee  weekday  hour time_of_day  month  \\\n0           0    Visa         1  1.0  Tuesday     0       Night      1   \n1           0    Visa         2  3.0  Tuesday     0       Night      1   \n2           1  Diners         1  1.0  Tuesday     0       Night      1   \n3           1  Diners         2  3.0  Tuesday     0       Night      1   \n4           0  Diners         1  0.5  Tuesday     0       Night      1   \n\n   quarter  fee_to_amount_ratio  log_amount  \n0        1             0.011236    4.499810  \n1        1             0.033708    4.499810  \n2        1             0.004202    5.476464  \n3        1             0.012605    5.476464  \n4        1             0.004032    4.828314  ",
      "text/html": "<div>\n<style scoped>\n    .dataframe tbody tr th:only-of-type {\n        vertical-align: middle;\n    }\n\n    .dataframe tbody tr th {\n        vertical-align: top;\n    }\n\n    .dataframe thead th {\n        text-align: right;\n    }\n</style>\n<table border=\"1\" class=\"dataframe\">\n  <thead>\n    <tr style=\"text-align: right;\">\n      <th></th>\n      <th>index</th>\n      <th>tmsp</th>\n      <th>country</th>\n      <th>amount</th>\n      <th>success</th>\n      <th>PSP</th>\n      <th>3D_secured</th>\n      <th>card</th>\n      <th>attempts</th>\n      <th>fee</th>\n      <th>weekday</th>\n      <th>hour</th>\n      <th>time_of_day</th>\n      <th>month</th>\n      <th>quarter</th>\n      <th>fee_to_amount_ratio</th>\n      <th>log_amount</th>\n    </tr>\n  </thead>\n  <tbody>\n    <tr>\n      <th>0</th>\n      <td>0</td>\n      <td>2019-01-01 00:01:11</td>\n      <td>Germany</td>\n      <td>89</td>\n      <td>0</td>\n      <td>UK_Card</td>\n      <td>0</td>\n      <td>Visa</td>\n      <td>1</td>\n      <td>1.0</td>\n      <td>Tuesday</td>\n      <td>0</td>\n      <td>Night</td>\n      <td>1</td>\n      <td>1</td>\n      <td>0.011236</td>\n      <td>4.499810</td>\n    </tr>\n    <tr>\n      <th>1</th>\n      <td>1</td>\n      <td>2019-01-01 00:01:17</td>\n      <td>Germany</td>\n      <td>89</td>\n      <td>1</td>\n      <td>UK_Card</td>\n      <td>0</td>\n      <td>Visa</td>\n      <td>2</td>\n      <td>3.0</td>\n      <td>Tuesday</td>\n      <td>0</td>\n      <td>Night</td>\n      <td>1</td>\n      <td>1</td>\n      <td>0.033708</td>\n      <td>4.499810</td>\n    </tr>\n    <tr>\n      <th>2</th>\n      <td>2</td>\n      <td>2019-01-01 00:02:49</td>\n      <td>Germany</td>\n      <td>238</td>\n      <td>0</td>\n      <td>UK_Card</td>\n      <td>1</td>\n      <td>Diners</td>\n      <td>1</td>\n      <td>1.0</td>\n      <td>Tuesday</td>\n      <td>0</td>\n      <td>Night</td>\n      <td>1</td>\n      <td>1</td>\n      <td>0.004202</td>\n      <td>5.476464</td>\n    </tr>\n    <tr>\n      <th>3</th>\n      <td>3</td>\n      <td>2019-01-01 00:03:13</td>\n      <td>Germany</td>\n      <td>238</td>\n      <td>1</td>\n      <td>UK_Card</td>\n      <td>1</td>\n      <td>Diners</td>\n      <td>2</td>\n      <td>3.0</td>\n      <td>Tuesday</td>\n      <td>0</td>\n      <td>Night</td>\n      <td>1</td>\n      <td>1</td>\n      <td>0.012605</td>\n      <td>5.476464</td>\n    </tr>\n    <tr>\n      <th>4</th>\n      <td>4</td>\n      <td>2019-01-01 00:04:33</td>\n      <td>Austria</td>\n      <td>124</td>\n      <td>0</td>\n      <td>Simplecard</td>\n      <td>0</td>\n      <td>Diners</td>\n      <td>1</td>\n      <td>0.5</td>\n      <td>Tuesday</td>\n      <td>0</td>\n      <td>Night</td>\n      <td>1</td>\n      <td>1</td>\n      <td>0.004032</td>\n      <td>4.828314</td>\n    </tr>\n  </tbody>\n</table>\n</div>"
     },
     "execution_count": 21,
     "metadata": {},
     "output_type": "execute_result"
    }
   ],
   "source": [
    "# Extract time-related features\n",
    "df_merged['weekday'] = df_merged['tmsp'].dt.day_name()\n",
    "df_merged['hour'] = df_merged['tmsp'].dt.hour\n",
    "\n",
    "# Create time-of-day feature\n",
    "bins = [0, 6, 12, 18, 24]\n",
    "labels = ['Night', 'Morning', 'Afternoon', 'Evening']\n",
    "df_merged['time_of_day'] = pd.cut(df_merged['hour'], bins=bins, labels=labels, right=False)\n",
    "\n",
    "# Create month and quarter features\n",
    "df_merged['month'] = df_merged['tmsp'].dt.month\n",
    "df_merged['quarter'] = df_merged['tmsp'].dt.quarter\n",
    "\n",
    "# Create transaction-related features\n",
    "df_merged['fee_to_amount_ratio'] = df_merged['fee'] / df_merged['amount']\n",
    "df_merged['log_amount'] = np.log1p(df_merged['amount'])  # log1p is used to handle zero amounts\n",
    "\n",
    "# Show the first few rows of the DataFrame to verify the new features\n",
    "df_merged.head()"
   ]
  },
  {
   "cell_type": "markdown",
   "metadata": {},
   "source": [
    "# Transactional features"
   ]
  },
  {
   "cell_type": "code",
   "execution_count": 22,
   "metadata": {},
   "outputs": [
    {
     "data": {
      "text/plain": "    index                tmsp      country  amount  success         PSP  \\\n1       1 2019-01-01 00:01:17      Germany      89        1     UK_Card   \n3       3 2019-01-01 00:03:13      Germany     238        1     UK_Card   \n9       9 2019-01-01 00:10:49  Switzerland     174        0  Simplecard   \n12     12 2019-01-01 00:13:34      Austria     232        0     UK_Card   \n13     13 2019-01-01 00:13:44      Austria     232        0     UK_Card   \n\n    3D_secured    card  attempts  fee  ... time_of_day  month quarter  \\\n1            0    Visa         2  3.0  ...       Night      1       1   \n3            1  Diners         2  3.0  ...       Night      1       1   \n9            0    Visa         2  0.5  ...       Night      1       1   \n12           1  Diners         2  1.0  ...       Night      1       1   \n13           1  Diners         3  1.0  ...       Night      1       1   \n\n    fee_to_amount_ratio  log_amount             country_PSP  PSP_3D_secured  \\\n1              0.033708    4.499810         Germany_UK_Card       UK_Card_0   \n3              0.012605    5.476464         Germany_UK_Card       UK_Card_1   \n9              0.002874    5.164786  Switzerland_Simplecard    Simplecard_0   \n12             0.004310    5.451038         Austria_UK_Card       UK_Card_1   \n13             0.004310    5.451038         Austria_UK_Card       UK_Card_1   \n\n   previous_successes previous_failures  transaction_duration  \n1                   1                 0                     0  \n3                   1                 0                     0  \n9                   0                 1                     0  \n12                  0                 1                     0  \n13                  0                 2                    10  \n\n[5 rows x 22 columns]",
      "text/html": "<div>\n<style scoped>\n    .dataframe tbody tr th:only-of-type {\n        vertical-align: middle;\n    }\n\n    .dataframe tbody tr th {\n        vertical-align: top;\n    }\n\n    .dataframe thead th {\n        text-align: right;\n    }\n</style>\n<table border=\"1\" class=\"dataframe\">\n  <thead>\n    <tr style=\"text-align: right;\">\n      <th></th>\n      <th>index</th>\n      <th>tmsp</th>\n      <th>country</th>\n      <th>amount</th>\n      <th>success</th>\n      <th>PSP</th>\n      <th>3D_secured</th>\n      <th>card</th>\n      <th>attempts</th>\n      <th>fee</th>\n      <th>...</th>\n      <th>time_of_day</th>\n      <th>month</th>\n      <th>quarter</th>\n      <th>fee_to_amount_ratio</th>\n      <th>log_amount</th>\n      <th>country_PSP</th>\n      <th>PSP_3D_secured</th>\n      <th>previous_successes</th>\n      <th>previous_failures</th>\n      <th>transaction_duration</th>\n    </tr>\n  </thead>\n  <tbody>\n    <tr>\n      <th>1</th>\n      <td>1</td>\n      <td>2019-01-01 00:01:17</td>\n      <td>Germany</td>\n      <td>89</td>\n      <td>1</td>\n      <td>UK_Card</td>\n      <td>0</td>\n      <td>Visa</td>\n      <td>2</td>\n      <td>3.0</td>\n      <td>...</td>\n      <td>Night</td>\n      <td>1</td>\n      <td>1</td>\n      <td>0.033708</td>\n      <td>4.499810</td>\n      <td>Germany_UK_Card</td>\n      <td>UK_Card_0</td>\n      <td>1</td>\n      <td>0</td>\n      <td>0</td>\n    </tr>\n    <tr>\n      <th>3</th>\n      <td>3</td>\n      <td>2019-01-01 00:03:13</td>\n      <td>Germany</td>\n      <td>238</td>\n      <td>1</td>\n      <td>UK_Card</td>\n      <td>1</td>\n      <td>Diners</td>\n      <td>2</td>\n      <td>3.0</td>\n      <td>...</td>\n      <td>Night</td>\n      <td>1</td>\n      <td>1</td>\n      <td>0.012605</td>\n      <td>5.476464</td>\n      <td>Germany_UK_Card</td>\n      <td>UK_Card_1</td>\n      <td>1</td>\n      <td>0</td>\n      <td>0</td>\n    </tr>\n    <tr>\n      <th>9</th>\n      <td>9</td>\n      <td>2019-01-01 00:10:49</td>\n      <td>Switzerland</td>\n      <td>174</td>\n      <td>0</td>\n      <td>Simplecard</td>\n      <td>0</td>\n      <td>Visa</td>\n      <td>2</td>\n      <td>0.5</td>\n      <td>...</td>\n      <td>Night</td>\n      <td>1</td>\n      <td>1</td>\n      <td>0.002874</td>\n      <td>5.164786</td>\n      <td>Switzerland_Simplecard</td>\n      <td>Simplecard_0</td>\n      <td>0</td>\n      <td>1</td>\n      <td>0</td>\n    </tr>\n    <tr>\n      <th>12</th>\n      <td>12</td>\n      <td>2019-01-01 00:13:34</td>\n      <td>Austria</td>\n      <td>232</td>\n      <td>0</td>\n      <td>UK_Card</td>\n      <td>1</td>\n      <td>Diners</td>\n      <td>2</td>\n      <td>1.0</td>\n      <td>...</td>\n      <td>Night</td>\n      <td>1</td>\n      <td>1</td>\n      <td>0.004310</td>\n      <td>5.451038</td>\n      <td>Austria_UK_Card</td>\n      <td>UK_Card_1</td>\n      <td>0</td>\n      <td>1</td>\n      <td>0</td>\n    </tr>\n    <tr>\n      <th>13</th>\n      <td>13</td>\n      <td>2019-01-01 00:13:44</td>\n      <td>Austria</td>\n      <td>232</td>\n      <td>0</td>\n      <td>UK_Card</td>\n      <td>1</td>\n      <td>Diners</td>\n      <td>3</td>\n      <td>1.0</td>\n      <td>...</td>\n      <td>Night</td>\n      <td>1</td>\n      <td>1</td>\n      <td>0.004310</td>\n      <td>5.451038</td>\n      <td>Austria_UK_Card</td>\n      <td>UK_Card_1</td>\n      <td>0</td>\n      <td>2</td>\n      <td>10</td>\n    </tr>\n  </tbody>\n</table>\n<p>5 rows × 22 columns</p>\n</div>"
     },
     "execution_count": 22,
     "metadata": {},
     "output_type": "execute_result"
    }
   ],
   "source": [
    "# Create interactive features\n",
    "df_merged['country_PSP'] = df_merged['country'] + \"_\" + df_merged['PSP']\n",
    "df_merged['PSP_3D_secured'] = df_merged['PSP'] + \"_\" + df_merged['3D_secured'].astype(str)\n",
    "\n",
    "# Initialize columns for previous successes/failures and transaction duration\n",
    "df_merged['previous_successes'] = 0\n",
    "df_merged['previous_failures'] = 0\n",
    "df_merged['transaction_duration'] = 0\n",
    "\n",
    "# Loop through the DataFrame to calculate previous successes, previous failures, and transaction duration\n",
    "# We only consider records that have 'attempts' greater than 1\n",
    "groups = df_merged[df_merged['attempts'] > 1].groupby(['country', 'amount', 'PSP'])\n",
    "for name, group in groups:\n",
    "    success_count = 0\n",
    "    failure_count = 0\n",
    "    for i in range(len(group)):\n",
    "        row = group.iloc[i]\n",
    "        index = row.name\n",
    "        if i == 0:\n",
    "            # For the first record in the group, transaction duration is zero\n",
    "            df_merged.at[index, 'transaction_duration'] = 0\n",
    "        else:\n",
    "            prev_row = group.iloc[i - 1]\n",
    "            duration = (row['tmsp'] - prev_row['tmsp']).seconds\n",
    "            df_merged.at[index, 'transaction_duration'] = duration\n",
    "\n",
    "        if row['success'] == 1:\n",
    "            success_count += 1\n",
    "        else:\n",
    "            failure_count += 1\n",
    "\n",
    "        # Update the DataFrame with the accumulated counts\n",
    "        df_merged.at[index, 'previous_successes'] = success_count\n",
    "        df_merged.at[index, 'previous_failures'] = failure_count\n",
    "\n",
    "# Show the first few rows of the DataFrame to verify the new features\n",
    "df_merged[df_merged['attempts'] > 1].head()\n"
   ]
  },
  {
   "cell_type": "code",
   "execution_count": 24,
   "metadata": {},
   "outputs": [],
   "source": [
    "df_merged.to_excel(file_path_processed_data, index=False)"
   ]
  },
  {
   "cell_type": "code",
   "execution_count": 23,
   "metadata": {},
   "outputs": [],
   "source": []
  }
 ],
 "metadata": {
  "kernelspec": {
   "display_name": "Python 3 (ipykernel)",
   "language": "python",
   "name": "python3"
  },
  "language_info": {
   "codemirror_mode": {
    "name": "ipython",
    "version": 3
   },
   "file_extension": ".py",
   "mimetype": "text/x-python",
   "name": "python",
   "nbconvert_exporter": "python",
   "pygments_lexer": "ipython3",
   "version": "3.10.9"
  }
 },
 "nbformat": 4,
 "nbformat_minor": 1
}
