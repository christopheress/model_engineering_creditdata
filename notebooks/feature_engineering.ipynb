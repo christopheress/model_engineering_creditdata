{
 "cells": [
  {
   "cell_type": "code",
   "execution_count": 1,
   "metadata": {
    "collapsed": true
   },
   "outputs": [],
   "source": [
    "import pandas as pd\n",
    "import matplotlib.pyplot as plt\n",
    "import seaborn as sns\n",
    "from datetime import timedelta\n",
    "import numpy as np\n",
    "\n",
    "# Load the dataset from the Excel file\n",
    "file_path_psp = '../data/raw/PSP_Jan_Feb_2019.xlsx'\n",
    "file_path_fee = '../data/raw/PSP_Fees.xlsx'\n",
    "df = pd.read_excel(file_path_psp)\n",
    "df_fee = pd.read_excel(file_path_fee)"
   ]
  },
  {
   "cell_type": "markdown",
   "source": [
    "# Define attempts"
   ],
   "metadata": {
    "collapsed": false
   }
  },
  {
   "cell_type": "markdown",
   "source": [
    "* Definition:"
   ],
   "metadata": {
    "collapsed": false
   }
  },
  {
   "cell_type": "code",
   "execution_count": null,
   "outputs": [],
   "source": [
    "# Sort the dataset by 'country', 'amount', 'PSP', and 'tmsp'\n",
    "df_sorted = df.sort_values(by=['tmsp', 'country', 'amount', 'PSP']).reset_index(drop=True)\n",
    "\n",
    "# Initialize an empty list to store the 'attempts' values\n",
    "attempts = [1]  # The first row will always have an attempt value of 1\n",
    "\n",
    "# Loop through the sorted DataFrame to calculate the 'attempts'\n",
    "for i in range(1, len(df_sorted)):\n",
    "    row = df_sorted.iloc[i]\n",
    "    prev_row = df_sorted.iloc[i-1]\n",
    "\n",
    "    # Check if 'country', 'amount', and 'PSP' are the same and 'tmsp' is within 60 seconds\n",
    "    if (row['country'] == prev_row['country'] and\n",
    "        row['amount'] == prev_row['amount'] and\n",
    "        row['PSP'] == prev_row['PSP'] and\n",
    "        (row['tmsp'] - prev_row['tmsp']).seconds < 60):\n",
    "        attempts.append(attempts[-1] + 1)\n",
    "    else:\n",
    "        attempts.append(1)\n",
    "\n",
    "# Add the 'attempts' column to the DataFrame\n",
    "df_sorted['attempts'] = attempts\n",
    "\n",
    "# Show the first few rows\n",
    "df_sorted.head(10)"
   ],
   "metadata": {
    "collapsed": false
   }
  },
  {
   "cell_type": "code",
   "execution_count": null,
   "outputs": [],
   "source": [
    "# Group the data by 'country', 'amount', 'PSP', and 'attempts' and count unique attempts\n",
    "unique_attempts_count = df_sorted.groupby(['country', 'amount', 'PSP'])['attempts'].max().reset_index()\n",
    "unique_attempts_distribution = unique_attempts_count['attempts'].value_counts().sort_index()\n",
    "\n",
    "# Plot the distribution of 'attempts'\n",
    "plt.figure(figsize=(10, 6))\n",
    "sns.barplot(x=unique_attempts_distribution.index, y=unique_attempts_distribution.values, palette=\"Blues_d\")\n",
    "plt.title('Verteilung der Versuche (attempts)')\n",
    "plt.xlabel('Anzahl der Versuche')\n",
    "plt.ylabel('Häufigkeit')\n",
    "plt.show()\n",
    "\n",
    "unique_attempts_distribution"
   ],
   "metadata": {
    "collapsed": false
   }
  },
  {
   "cell_type": "code",
   "execution_count": null,
   "outputs": [],
   "source": [
    "# Merge the fees DataFrame with the original dataset based on 'PSP' and 'success'\n",
    "df_merged = pd.merge(df_sorted, fees_df_read, on=['PSP', 'success'], how='left')\n",
    "\n",
    "# Show the first few rows of the merged DataFrame to verify\n",
    "df_merged.head()"
   ],
   "metadata": {
    "collapsed": false
   }
  },
  {
   "cell_type": "markdown",
   "source": [
    "# Time-related features"
   ],
   "metadata": {
    "collapsed": false
   }
  },
  {
   "cell_type": "code",
   "execution_count": null,
   "outputs": [],
   "source": [
    "# Extract time-related features\n",
    "df_merged['weekday'] = df_merged['tmsp'].dt.day_name()\n",
    "df_merged['hour'] = df_merged['tmsp'].dt.hour\n",
    "\n",
    "# Create time-of-day feature\n",
    "bins = [0, 6, 12, 18, 24]\n",
    "labels = ['Night', 'Morning', 'Afternoon', 'Evening']\n",
    "df_merged['time_of_day'] = pd.cut(df_merged['hour'], bins=bins, labels=labels, right=False)\n",
    "\n",
    "# Create month and quarter features\n",
    "df_merged['month'] = df_merged['tmsp'].dt.month\n",
    "df_merged['quarter'] = df_merged['tmsp'].dt.quarter\n",
    "\n",
    "# Create transaction-related features\n",
    "df_merged['fee_to_amount_ratio'] = df_merged['fee'] / df_merged['amount']\n",
    "df_merged['log_amount'] = np.log1p(df_merged['amount'])  # log1p is used to handle zero amounts\n",
    "\n",
    "# Show the first few rows of the DataFrame to verify the new features\n",
    "df_merged.head()"
   ],
   "metadata": {
    "collapsed": false
   }
  },
  {
   "cell_type": "markdown",
   "source": [
    "# Transactional features"
   ],
   "metadata": {
    "collapsed": false
   }
  },
  {
   "cell_type": "code",
   "execution_count": null,
   "outputs": [],
   "source": [
    "# Create interactive features\n",
    "df_merged['country_PSP'] = df_merged['country'] + \"_\" + df_merged['PSP']\n",
    "df_merged['PSP_3D_secured'] = df_merged['PSP'] + \"_\" + df_merged['3D_secured'].astype(str)\n",
    "\n",
    "# Initialize columns for previous successes/failures and transaction duration\n",
    "df_merged['previous_successes'] = 0\n",
    "df_merged['previous_failures'] = 0\n",
    "df_merged['transaction_duration'] = 0\n",
    "\n",
    "# Loop through the DataFrame to calculate previous successes, previous failures, and transaction duration\n",
    "# We only consider records that have 'attempts' greater than 1\n",
    "groups = df_merged[df_merged['attempts'] > 1].groupby(['country', 'amount', 'PSP'])\n",
    "for name, group in groups:\n",
    "    success_count = 0\n",
    "    failure_count = 0\n",
    "    for i in range(len(group)):\n",
    "        row = group.iloc[i]\n",
    "        index = row.name\n",
    "        if i == 0:\n",
    "            # For the first record in the group, transaction duration is zero\n",
    "            df_merged.at[index, 'transaction_duration'] = 0\n",
    "        else:\n",
    "            prev_row = group.iloc[i - 1]\n",
    "            duration = (row['tmsp'] - prev_row['tmsp']).seconds\n",
    "            df_merged.at[index, 'transaction_duration'] = duration\n",
    "\n",
    "        if row['success'] == 1:\n",
    "            success_count += 1\n",
    "        else:\n",
    "            failure_count += 1\n",
    "\n",
    "        # Update the DataFrame with the accumulated counts\n",
    "        df_merged.at[index, 'previous_successes'] = success_count\n",
    "        df_merged.at[index, 'previous_failures'] = failure_count\n",
    "\n",
    "# Show the first few rows of the DataFrame to verify the new features\n",
    "df_merged[df_merged['attempts'] > 1].head()\n"
   ],
   "metadata": {
    "collapsed": false
   }
  },
  {
   "cell_type": "code",
   "execution_count": null,
   "outputs": [],
   "source": [
    "df_merged.to_excel('PSP_Jan_Feb_2019_ready.xlsx', index=False)"
   ],
   "metadata": {
    "collapsed": false
   }
  }
 ],
 "metadata": {
  "kernelspec": {
   "display_name": "Python 3",
   "language": "python",
   "name": "python3"
  },
  "language_info": {
   "codemirror_mode": {
    "name": "ipython",
    "version": 2
   },
   "file_extension": ".py",
   "mimetype": "text/x-python",
   "name": "python",
   "nbconvert_exporter": "python",
   "pygments_lexer": "ipython2",
   "version": "2.7.6"
  }
 },
 "nbformat": 4,
 "nbformat_minor": 0
}
