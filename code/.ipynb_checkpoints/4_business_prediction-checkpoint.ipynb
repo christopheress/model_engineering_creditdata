{
 "cells": [
  {
   "cell_type": "markdown",
   "id": "f98e165518e38102",
   "metadata": {},
   "source": [
    "# Prediction for real usecase"
   ]
  },
  {
   "cell_type": "code",
   "execution_count": 53,
   "id": "bd20bcc0939088dc",
   "metadata": {
    "ExecuteTime": {
     "end_time": "2023-11-15T19:26:03.636190Z",
     "start_time": "2023-11-15T19:26:03.593757Z"
    }
   },
   "outputs": [],
   "source": [
    "import numpy as np\n",
    "import pandas as pd\n",
    "import pickle\n",
    "from sklearn.preprocessing import LabelEncoder\n",
    "\n",
    "# Load xgb model\n",
    "with open('../results/models/xgb_model.pkl', 'rb') as f:\n",
    "    xgb_model = pickle.load(f)\n",
    "\n",
    "# Load test data\n",
    "X_test = pd.read_csv('../data/processed/X_test_xgb.csv')\n",
    "\n",
    "# Load fee data\n",
    "df_fees = pd.read_excel('../data/raw/PSP_Fees.xlsx')"
   ]
  },
  {
   "cell_type": "code",
   "execution_count": 5,
   "id": "907ad20763c3024c",
   "metadata": {
    "ExecuteTime": {
     "end_time": "2023-11-15T17:09:23.181308Z",
     "start_time": "2023-11-15T17:09:23.173138Z"
    }
   },
   "outputs": [],
   "source": [
    "\n",
    "def replicate_dataframe_with_values(df, col, new_values):\n",
    "    \"\"\"\n",
    "    Replicates the DataFrame df for each value in new_values and sets the 'col' column\n",
    "    with the corresponding new value, while also preserving the original value in a new column.\n",
    "    \n",
    "    Parameters:\n",
    "    - df: Original DataFrame\n",
    "    - col: Name of the column to update\n",
    "    - new_values: List or array of values to set in the specified column\n",
    "    \n",
    "    Returns:\n",
    "    - concatenated_df: A DataFrame containing all the replicated DataFrames with the original \n",
    "      and new values of the specified column.\n",
    "    \"\"\"\n",
    "    dfs = []  # List to store the replicated DataFrames\n",
    "\n",
    "    # Create a new column to store the original values\n",
    "    original_col_name = f\"original_{col}\"\n",
    "    df[original_col_name] = df[col]\n",
    "\n",
    "    for value in new_values:\n",
    "        new_df = df.copy()  # Create a copy of the original DataFrame\n",
    "        new_df[col] = value  # Set the column with the new value\n",
    "        dfs.append(new_df)  # Add the new DataFrame to the list\n",
    "\n",
    "    # Concatenate all the replicated DataFrames into one\n",
    "    concatenated_df = pd.concat(dfs, ignore_index=True)\n",
    "\n",
    "    return concatenated_df"
   ]
  },
  {
   "cell_type": "code",
   "execution_count": 15,
   "id": "6dbc06d6fcafe7",
   "metadata": {
    "ExecuteTime": {
     "end_time": "2023-11-15T17:24:18.513190Z",
     "start_time": "2023-11-15T17:24:18.455186Z"
    }
   },
   "outputs": [],
   "source": [
    "# Expand data for all PSP\n",
    "label_encoder = LabelEncoder()\n",
    "\n",
    "X_test['ID'] = X_test.index\n",
    "df_test_psp = replicate_dataframe_with_values(X_test, 'PSP', new_values=['UK_Card', 'Simplecard', 'Moneycard', 'Goldcard'])\n",
    "\n",
    "# Merge the model data with the fees data\n",
    "df_test_psp = pd.merge(df_test_psp, df_fees.loc[df_fees['success'] == 1, ['PSP','fee']],\n",
    "                       how='left', on='PSP')\n",
    "df_test_psp['PSP_txt'] = df_test_psp['PSP']\n",
    "\n",
    "# Prepare data for modelinput\n",
    "df_test_psp['PSP'] = label_encoder.fit_transform(df_test_psp['PSP'].astype(str))\n",
    "\n",
    "# Get the probabilities of success\n",
    "df_test_psp['prob_xgb'] = xgb_model.predict_proba(df_test_psp.drop(columns=['ID', 'fee', 'PSP_txt', 'original_PSP']))[:, 1]\n",
    "df_test_psp['decision_xgb'] = xgb_model.predict(df_test_psp.drop(columns=['ID', 'fee', 'PSP_txt', 'original_PSP', 'prob_xgb']))"
   ]
  },
  {
   "cell_type": "code",
   "execution_count": 39,
   "id": "cc7d094e148292f7",
   "metadata": {
    "ExecuteTime": {
     "end_time": "2023-11-15T19:10:53.125979Z",
     "start_time": "2023-11-15T19:10:53.106842Z"
    }
   },
   "outputs": [
    {
     "data": {
      "text/html": [
       "<div>\n",
       "<style scoped>\n",
       "    .dataframe tbody tr th:only-of-type {\n",
       "        vertical-align: middle;\n",
       "    }\n",
       "\n",
       "    .dataframe tbody tr th {\n",
       "        vertical-align: top;\n",
       "    }\n",
       "\n",
       "    .dataframe thead th {\n",
       "        text-align: right;\n",
       "    }\n",
       "</style>\n",
       "<table border=\"1\" class=\"dataframe\">\n",
       "  <thead>\n",
       "    <tr style=\"text-align: right;\">\n",
       "      <th></th>\n",
       "      <th>country</th>\n",
       "      <th>amount</th>\n",
       "      <th>PSP</th>\n",
       "      <th>3D_secured</th>\n",
       "      <th>card</th>\n",
       "      <th>previous_failure</th>\n",
       "      <th>attempts</th>\n",
       "      <th>weekday</th>\n",
       "      <th>hour</th>\n",
       "      <th>time_of_day</th>\n",
       "      <th>...</th>\n",
       "      <th>prob_fee_ratio_original</th>\n",
       "      <th>fee_original</th>\n",
       "      <th>diff_current</th>\n",
       "      <th>diff_best_prop_fee</th>\n",
       "      <th>prob_fee_ratio_original</th>\n",
       "      <th>fee_original</th>\n",
       "      <th>prob_fee_ratio_original</th>\n",
       "      <th>fee_original</th>\n",
       "      <th>prob_fee_ratio_original</th>\n",
       "      <th>fee_original</th>\n",
       "    </tr>\n",
       "  </thead>\n",
       "  <tbody>\n",
       "    <tr>\n",
       "      <th>10</th>\n",
       "      <td>1</td>\n",
       "      <td>259</td>\n",
       "      <td>3</td>\n",
       "      <td>0</td>\n",
       "      <td>0</td>\n",
       "      <td>1</td>\n",
       "      <td>7</td>\n",
       "      <td>1</td>\n",
       "      <td>12</td>\n",
       "      <td>0</td>\n",
       "      <td>...</td>\n",
       "      <td>0.811426</td>\n",
       "      <td>3.0</td>\n",
       "      <td>0.000000</td>\n",
       "      <td>0.097809</td>\n",
       "      <td>0.839839</td>\n",
       "      <td>3.0</td>\n",
       "      <td>0.754601</td>\n",
       "      <td>3.0</td>\n",
       "      <td>0.697776</td>\n",
       "      <td>3.0</td>\n",
       "    </tr>\n",
       "    <tr>\n",
       "      <th>12613</th>\n",
       "      <td>1</td>\n",
       "      <td>259</td>\n",
       "      <td>2</td>\n",
       "      <td>0</td>\n",
       "      <td>0</td>\n",
       "      <td>1</td>\n",
       "      <td>7</td>\n",
       "      <td>1</td>\n",
       "      <td>12</td>\n",
       "      <td>0</td>\n",
       "      <td>...</td>\n",
       "      <td>0.811426</td>\n",
       "      <td>3.0</td>\n",
       "      <td>0.078502</td>\n",
       "      <td>0.203310</td>\n",
       "      <td>0.839839</td>\n",
       "      <td>3.0</td>\n",
       "      <td>0.754601</td>\n",
       "      <td>3.0</td>\n",
       "      <td>0.697776</td>\n",
       "      <td>3.0</td>\n",
       "    </tr>\n",
       "    <tr>\n",
       "      <th>25216</th>\n",
       "      <td>1</td>\n",
       "      <td>259</td>\n",
       "      <td>1</td>\n",
       "      <td>0</td>\n",
       "      <td>0</td>\n",
       "      <td>1</td>\n",
       "      <td>7</td>\n",
       "      <td>1</td>\n",
       "      <td>12</td>\n",
       "      <td>0</td>\n",
       "      <td>...</td>\n",
       "      <td>0.811426</td>\n",
       "      <td>3.0</td>\n",
       "      <td>0.032498</td>\n",
       "      <td>0.078641</td>\n",
       "      <td>0.839839</td>\n",
       "      <td>3.0</td>\n",
       "      <td>0.754601</td>\n",
       "      <td>3.0</td>\n",
       "      <td>0.697776</td>\n",
       "      <td>3.0</td>\n",
       "    </tr>\n",
       "    <tr>\n",
       "      <th>37819</th>\n",
       "      <td>1</td>\n",
       "      <td>259</td>\n",
       "      <td>0</td>\n",
       "      <td>0</td>\n",
       "      <td>0</td>\n",
       "      <td>1</td>\n",
       "      <td>7</td>\n",
       "      <td>1</td>\n",
       "      <td>12</td>\n",
       "      <td>0</td>\n",
       "      <td>...</td>\n",
       "      <td>0.811426</td>\n",
       "      <td>3.0</td>\n",
       "      <td>0.074246</td>\n",
       "      <td>0.000000</td>\n",
       "      <td>0.839839</td>\n",
       "      <td>3.0</td>\n",
       "      <td>0.754601</td>\n",
       "      <td>3.0</td>\n",
       "      <td>0.697776</td>\n",
       "      <td>3.0</td>\n",
       "    </tr>\n",
       "  </tbody>\n",
       "</table>\n",
       "<p>4 rows × 31 columns</p>\n",
       "</div>"
      ],
      "text/plain": [
       "       country  amount  PSP  3D_secured  card  previous_failure  attempts  \\\n",
       "10           1     259    3           0     0                 1         7   \n",
       "12613        1     259    2           0     0                 1         7   \n",
       "25216        1     259    1           0     0                 1         7   \n",
       "37819        1     259    0           0     0                 1         7   \n",
       "\n",
       "       weekday  hour  time_of_day  ...  prob_fee_ratio_original  fee_original  \\\n",
       "10           1    12            0  ...                 0.811426           3.0   \n",
       "12613        1    12            0  ...                 0.811426           3.0   \n",
       "25216        1    12            0  ...                 0.811426           3.0   \n",
       "37819        1    12            0  ...                 0.811426           3.0   \n",
       "\n",
       "       diff_current  diff_best_prop_fee  prob_fee_ratio_original  \\\n",
       "10         0.000000            0.097809                 0.839839   \n",
       "12613      0.078502            0.203310                 0.839839   \n",
       "25216      0.032498            0.078641                 0.839839   \n",
       "37819      0.074246            0.000000                 0.839839   \n",
       "\n",
       "       fee_original  prob_fee_ratio_original  fee_original  \\\n",
       "10              3.0                 0.754601           3.0   \n",
       "12613           3.0                 0.754601           3.0   \n",
       "25216           3.0                 0.754601           3.0   \n",
       "37819           3.0                 0.754601           3.0   \n",
       "\n",
       "       prob_fee_ratio_original  fee_original  \n",
       "10                    0.697776           3.0  \n",
       "12613                 0.697776           3.0  \n",
       "25216                 0.697776           3.0  \n",
       "37819                 0.697776           3.0  \n",
       "\n",
       "[4 rows x 31 columns]"
      ]
     },
     "execution_count": 39,
     "metadata": {},
     "output_type": "execute_result"
    }
   ],
   "source": [
    "# Explaination prop_fee_ratio:\n",
    "# The lowest value will be the decision\n",
    "# The higher the factor, the more important the level of fees becomes\n",
    "fee_factor = 0.3\n",
    "\n",
    "# Calculate expected value per ID\n",
    "df_test_psp['prob_fee_ratio'] = (((1-fee_factor) * (1-df_test_psp['prob_xgb'])) + \n",
    "                                 (fee_factor * df_test_psp['fee'] / 10))\n",
    "\n",
    "# Example for ID 10\n",
    "df_test_psp[df_test_psp['ID'] == 10]"
   ]
  },
  {
   "cell_type": "code",
   "execution_count": 39,
   "id": "649fcf3ff4659e30",
   "metadata": {
    "ExecuteTime": {
     "end_time": "2023-11-15T19:10:53.834926Z",
     "start_time": "2023-11-15T19:10:53.828458Z"
    }
   },
   "outputs": [],
   "source": []
  },
  {
   "cell_type": "code",
   "execution_count": 40,
   "id": "c759b013e2d04402",
   "metadata": {
    "ExecuteTime": {
     "end_time": "2023-11-15T19:10:54.582576Z",
     "start_time": "2023-11-15T19:10:54.550319Z"
    }
   },
   "outputs": [
    {
     "name": "stdout",
     "output_type": "stream",
     "text": [
      "116169.0\n",
      "41532.0\n",
      "0.38973\n",
      "0.20229283\n"
     ]
    }
   ],
   "source": [
    "# Calculate the sum fee of the highest prob_xgb per ID\n",
    "df_sorted = df_test_psp.sort_values(by=['ID', 'prob_xgb'], ascending=[True, False])\n",
    "df_max_prob_xgb = df_sorted.drop_duplicates(subset='ID')\n",
    "\n",
    "# Sum the 'fee' values of these rows\n",
    "print(df_max_prob_xgb['fee'].sum())\n",
    "print(df_test_psp[df_test_psp['original_PSP'] == df_test_psp['PSP']]['fee'].sum())\n",
    "\n",
    "print(df_max_prob_xgb['prob_xgb'].mean())\n",
    "print(df_test_psp[df_test_psp['original_PSP'] == df_test_psp['PSP']]['prob_xgb'].mean())"
   ]
  },
  {
   "cell_type": "code",
   "execution_count": 41,
   "id": "f596e0bebeb2e1b6",
   "metadata": {
    "ExecuteTime": {
     "end_time": "2023-11-15T19:10:55.326969Z",
     "start_time": "2023-11-15T19:10:55.300244Z"
    }
   },
   "outputs": [
    {
     "name": "stdout",
     "output_type": "stream",
     "text": [
      "28147.0\n",
      "41532.0\n",
      "0.2327001\n",
      "0.20229283\n"
     ]
    }
   ],
   "source": [
    "# Calculate the sum fee of the highest prob_xgb per ID\n",
    "df_sorted = df_test_psp.sort_values(by=['ID', 'prob_fee_ratio'], ascending=[False,True])\n",
    "df_max_prob_fee_ratio = df_sorted.drop_duplicates(subset='ID')\n",
    "\n",
    "# Sum the 'fee' values of these rows\n",
    "print(df_max_prob_fee_ratio['fee'].sum())\n",
    "print(df_test_psp[df_test_psp['original_PSP'] == df_test_psp['PSP']]['fee'].sum())\n",
    "\n",
    "print(df_max_prob_fee_ratio['prob_xgb'].mean())\n",
    "print(df_test_psp[df_test_psp['original_PSP'] == df_test_psp['PSP']]['prob_xgb'].mean())"
   ]
  },
  {
   "cell_type": "code",
   "execution_count": 54,
   "id": "8850ce9559fde830",
   "metadata": {
    "ExecuteTime": {
     "end_time": "2023-11-15T19:26:11.225385Z",
     "start_time": "2023-11-15T19:26:10.976229Z"
    }
   },
   "outputs": [],
   "source": [
    "# Define a list of fee_factor values\n",
    "fee_factors = [0, 0.05, 0.1, 0.15, 0.2, 0.25, 0.3, 0.35, 0.4, 0.45, 0.5]\n",
    "\n",
    "# Initialize an empty list to store results\n",
    "results = []\n",
    "\n",
    "# Loop over each fee_factor value\n",
    "for fee_factor in fee_factors:\n",
    "    # Calculate prob_fee_ratio\n",
    "    df_test_psp['prob_fee_ratio'] = (((1 - fee_factor) * (1 - df_test_psp['prob_xgb'])) +\n",
    "                                     (fee_factor * df_test_psp['fee'] / 10))\n",
    "\n",
    "    # Calculations for highest prob_fee_ratio per ID\n",
    "    df_sorted_by_fee_ratio = df_test_psp.sort_values(by=['ID', 'prob_fee_ratio'], ascending=[False, True])\n",
    "    highest_prob_fee_ratio_per_id = df_sorted_by_fee_ratio.drop_duplicates(subset='ID')\n",
    "    total_fee_highest_prob_fee_ratio = highest_prob_fee_ratio_per_id['fee'].sum()\n",
    "    average_prob_xgb_highest_fee_ratio = highest_prob_fee_ratio_per_id['prob_xgb'].mean()\n",
    "\n",
    "    # Calculations for original PSP\n",
    "    original_psp = df_test_psp[df_test_psp['original_PSP'] == df_test_psp['PSP']]\n",
    "    total_fee_original_psp = original_psp['fee'].sum()\n",
    "    average_prob_xgb_original_psp = original_psp['prob_xgb'].mean()\n",
    "\n",
    "    # Append the results\n",
    "    results.append({\n",
    "        'fee_factor': fee_factor,\n",
    "        'total_fee_highest_prob_fee_ratio': np.round(total_fee_highest_prob_fee_ratio, 2),\n",
    "        'average_prob_xgb_highest_fee_ratio': np.round(average_prob_xgb_highest_fee_ratio, 2),\n",
    "        'total_fee_original_psp': np.round(total_fee_original_psp, 2),\n",
    "        'average_prob_xgb_original_psp': np.round(average_prob_xgb_original_psp, 2)\n",
    "    })\n",
    "\n",
    "# Convert the results list to a DataFrame\n",
    "results_df = pd.DataFrame(results)"
   ]
  },
  {
   "cell_type": "code",
   "execution_count": 55,
   "id": "c963bcc9b28dd540",
   "metadata": {
    "ExecuteTime": {
     "end_time": "2023-11-15T19:26:12.390899Z",
     "start_time": "2023-11-15T19:26:12.386964Z"
    }
   },
   "outputs": [
    {
     "data": {
      "text/html": [
       "<div>\n",
       "<style scoped>\n",
       "    .dataframe tbody tr th:only-of-type {\n",
       "        vertical-align: middle;\n",
       "    }\n",
       "\n",
       "    .dataframe tbody tr th {\n",
       "        vertical-align: top;\n",
       "    }\n",
       "\n",
       "    .dataframe thead th {\n",
       "        text-align: right;\n",
       "    }\n",
       "</style>\n",
       "<table border=\"1\" class=\"dataframe\">\n",
       "  <thead>\n",
       "    <tr style=\"text-align: right;\">\n",
       "      <th></th>\n",
       "      <th>fee_factor</th>\n",
       "      <th>total_fee_highest_prob_fee_ratio</th>\n",
       "      <th>average_prob_xgb_highest_fee_ratio</th>\n",
       "      <th>total_fee_original_psp</th>\n",
       "      <th>average_prob_xgb_original_psp</th>\n",
       "    </tr>\n",
       "  </thead>\n",
       "  <tbody>\n",
       "    <tr>\n",
       "      <th>0</th>\n",
       "      <td>0.00</td>\n",
       "      <td>116169.0</td>\n",
       "      <td>0.39</td>\n",
       "      <td>41532.0</td>\n",
       "      <td>0.2</td>\n",
       "    </tr>\n",
       "    <tr>\n",
       "      <th>1</th>\n",
       "      <td>0.05</td>\n",
       "      <td>110410.0</td>\n",
       "      <td>0.39</td>\n",
       "      <td>41532.0</td>\n",
       "      <td>0.2</td>\n",
       "    </tr>\n",
       "    <tr>\n",
       "      <th>2</th>\n",
       "      <td>0.10</td>\n",
       "      <td>100652.0</td>\n",
       "      <td>0.38</td>\n",
       "      <td>41532.0</td>\n",
       "      <td>0.2</td>\n",
       "    </tr>\n",
       "    <tr>\n",
       "      <th>3</th>\n",
       "      <td>0.15</td>\n",
       "      <td>87192.0</td>\n",
       "      <td>0.37</td>\n",
       "      <td>41532.0</td>\n",
       "      <td>0.2</td>\n",
       "    </tr>\n",
       "    <tr>\n",
       "      <th>4</th>\n",
       "      <td>0.20</td>\n",
       "      <td>64888.0</td>\n",
       "      <td>0.33</td>\n",
       "      <td>41532.0</td>\n",
       "      <td>0.2</td>\n",
       "    </tr>\n",
       "  </tbody>\n",
       "</table>\n",
       "</div>"
      ],
      "text/plain": [
       "   fee_factor  total_fee_highest_prob_fee_ratio  \\\n",
       "0        0.00                          116169.0   \n",
       "1        0.05                          110410.0   \n",
       "2        0.10                          100652.0   \n",
       "3        0.15                           87192.0   \n",
       "4        0.20                           64888.0   \n",
       "\n",
       "   average_prob_xgb_highest_fee_ratio  total_fee_original_psp  \\\n",
       "0                                0.39                 41532.0   \n",
       "1                                0.39                 41532.0   \n",
       "2                                0.38                 41532.0   \n",
       "3                                0.37                 41532.0   \n",
       "4                                0.33                 41532.0   \n",
       "\n",
       "   average_prob_xgb_original_psp  \n",
       "0                            0.2  \n",
       "1                            0.2  \n",
       "2                            0.2  \n",
       "3                            0.2  \n",
       "4                            0.2  "
      ]
     },
     "execution_count": 55,
     "metadata": {},
     "output_type": "execute_result"
    }
   ],
   "source": [
    "results_df.head()"
   ]
  },
  {
   "cell_type": "code",
   "execution_count": null,
   "id": "e3caa5639a8938a2",
   "metadata": {},
   "outputs": [],
   "source": [
    "# Calculate the difference between the best PSP and the current PSP\n",
    "df_test_psp['diff_best_prop_fee'] = df_test_psp.groupby('ID')['prob_fee_ratio'].transform(max) - df_test_psp['prob_fee_ratio']\n",
    "\n",
    "# Set the value of the original PSP\n",
    "original_values_df = df_test_psp[df_test_psp['original_PSP'] == df_test_psp['PSP']]\n",
    "original_values_df = original_values_df[['ID', 'prob_fee_ratio', 'fee']].set_index('ID')\n",
    "df_test_psp = df_test_psp.merge(original_values_df, on='ID', how='left', suffixes=('', '_original'))\n",
    "df_test_psp['diff_current_prop_fee'] = df_test_psp['prob_fee_ratio_original'] - df_test_psp['prob_fee_ratio']\n",
    "\n",
    "df_test_psp['diff_current_fee'] = df_test_psp['fee_original'] - df_test_psp['fee']\n",
    "\n",
    "# Display rows where 'ID' is 10\n",
    "df_test_psp[df_test_psp['ID'] == 10]"
   ]
  }
 ],
 "metadata": {
  "kernelspec": {
   "display_name": "Python 3 (ipykernel)",
   "language": "python",
   "name": "python3"
  },
  "language_info": {
   "codemirror_mode": {
    "name": "ipython",
    "version": 3
   },
   "file_extension": ".py",
   "mimetype": "text/x-python",
   "name": "python",
   "nbconvert_exporter": "python",
   "pygments_lexer": "ipython3",
   "version": "3.10.9"
  }
 },
 "nbformat": 4,
 "nbformat_minor": 5
}
