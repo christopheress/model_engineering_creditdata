{
 "cells": [
  {
   "cell_type": "markdown",
   "source": [
    "# Prediction for real usecase"
   ],
   "metadata": {
    "collapsed": false
   },
   "id": "f98e165518e38102"
  },
  {
   "cell_type": "code",
   "execution_count": 14,
   "outputs": [],
   "source": [
    "import pandas as pd\n",
    "import pickle\n",
    "from sklearn.preprocessing import LabelEncoder\n",
    "\n",
    "# Load xgb model\n",
    "with open('../results/models/xgb_model.pkl', 'rb') as f:\n",
    "    xgb_model = pickle.load(f)\n",
    "\n",
    "# Load test data\n",
    "X_test = pd.read_csv('../data/processed/X_test_xgb.csv')\n",
    "\n",
    "# Load fee data\n",
    "df_fees = pd.read_excel('../data/raw/PSP_Fees.xlsx')"
   ],
   "metadata": {
    "collapsed": false,
    "ExecuteTime": {
     "end_time": "2023-10-18T20:37:43.895816Z",
     "start_time": "2023-10-18T20:37:43.874748Z"
    }
   },
   "id": "bd20bcc0939088dc"
  },
  {
   "cell_type": "code",
   "execution_count": 15,
   "outputs": [],
   "source": [
    "def replicate_dataframe_with_values(df, col, new_value):\n",
    "    \"\"\"\n",
    "    Replicates the DataFrame df for each value in N and sets the 'PSP' column\n",
    "    with the corresponding value.\n",
    "    \n",
    "    Parameters:\n",
    "    - df: Original DataFrame\n",
    "    - col: Name of the column to update\n",
    "    - new_values: List or array of values to set in the specified column\n",
    "    \n",
    "    Returns:\n",
    "    - concatenated_df: A DataFrame containing all the replicated DataFrames\n",
    "    \"\"\"\n",
    "    dfs = []  # List to store the replicated DataFrames\n",
    "\n",
    "    for value in new_value:\n",
    "        new_df = df.copy()  # Create a copy of the original DataFrame\n",
    "        new_df[col] = value  # Set the column with the new value\n",
    "        dfs.append(new_df)  # Add the new DataFrame to the list\n",
    "\n",
    "    # Concatenate all the replicated DataFrames into one\n",
    "    concatenated_df = pd.concat(dfs, ignore_index=True)\n",
    "\n",
    "    return concatenated_df"
   ],
   "metadata": {
    "collapsed": false,
    "ExecuteTime": {
     "end_time": "2023-10-18T20:37:44.506846Z",
     "start_time": "2023-10-18T20:37:44.504464Z"
    }
   },
   "id": "907ad20763c3024c"
  },
  {
   "cell_type": "code",
   "execution_count": 16,
   "outputs": [],
   "source": [
    "# Expand data for all PSP\n",
    "label_encoder = LabelEncoder()\n",
    "\n",
    "X_test['ID'] = X_test.index\n",
    "df_test_psp = replicate_dataframe_with_values(X_test, 'PSP', new_value=['UK_Card', 'Simplecard', 'Moneycard', 'Goldcard'])\n",
    "\n",
    "# Merge the model data with the fees data\n",
    "df_test_psp = pd.merge(df_test_psp, df_fees.loc[df_fees['success'] == 1, ['PSP','fee']],\n",
    "                       how='left', on='PSP')\n",
    "df_test_psp['PSP_txt'] = df_test_psp['PSP']\n",
    "\n",
    "# Prepare data for modelinput\n",
    "df_test_psp['PSP'] = label_encoder.fit_transform(df_test_psp['PSP'].astype(str))\n",
    "\n",
    "# Get the probabilities of success\n",
    "df_test_psp['prob_xgb'] = xgb_model.predict_proba(df_test_psp.drop(columns=['ID', 'fee', 'PSP_txt']))[:, 1]\n",
    "df_test_psp['decision_xgb'] = xgb_model.predict(df_test_psp.drop(columns=['ID', 'fee', 'PSP_txt', 'prob_xgb']))"
   ],
   "metadata": {
    "collapsed": false,
    "ExecuteTime": {
     "end_time": "2023-10-18T20:37:45.167209Z",
     "start_time": "2023-10-18T20:37:45.114661Z"
    }
   },
   "id": "6dbc06d6fcafe7"
  },
  {
   "cell_type": "code",
   "execution_count": 17,
   "outputs": [
    {
     "data": {
      "text/plain": "Empty DataFrame\nColumns: [country, amount, PSP, 3D_secured, card, previous_failure, attempts, weekday, hour, time_of_day, country_PSP, PSP_3D_secured, amount_group, ID, fee, PSP_txt, prob_xgb, decision_xgb, prob_fee_rario]\nIndex: []",
      "text/html": "<div>\n<style scoped>\n    .dataframe tbody tr th:only-of-type {\n        vertical-align: middle;\n    }\n\n    .dataframe tbody tr th {\n        vertical-align: top;\n    }\n\n    .dataframe thead th {\n        text-align: right;\n    }\n</style>\n<table border=\"1\" class=\"dataframe\">\n  <thead>\n    <tr style=\"text-align: right;\">\n      <th></th>\n      <th>country</th>\n      <th>amount</th>\n      <th>PSP</th>\n      <th>3D_secured</th>\n      <th>card</th>\n      <th>previous_failure</th>\n      <th>attempts</th>\n      <th>weekday</th>\n      <th>hour</th>\n      <th>time_of_day</th>\n      <th>country_PSP</th>\n      <th>PSP_3D_secured</th>\n      <th>amount_group</th>\n      <th>ID</th>\n      <th>fee</th>\n      <th>PSP_txt</th>\n      <th>prob_xgb</th>\n      <th>decision_xgb</th>\n      <th>prob_fee_rario</th>\n    </tr>\n  </thead>\n  <tbody>\n  </tbody>\n</table>\n</div>"
     },
     "execution_count": 17,
     "metadata": {},
     "output_type": "execute_result"
    }
   ],
   "source": [
    "# Calculate expected value per ID\n",
    "fee_factor = 0.1\n",
    "df_test_psp['prob_fee_rario'] = ((1-fee_factor) * (1-df_test_psp['prob_xgb'])) + (fee_factor * df_test_psp['fee'] / 10)\n",
    "df_test_psp[df_test_psp['ID'] == 26933]\n",
    "\n",
    "# Idee: prob_xgb mit einem Faktor anhand der Fee verändern -> Kann vom Fachbereich gesetzt werden\n",
    "# Balance zwischen erfolgreichen Zahlungen und Gebühren\n",
    "\n",
    "# Idee Controlling:\n",
    "# Durchschnittliche Gebühren und Erfolg je Tag oder Woche\n",
    "# Dann Vergleich mit neuem Modell\n",
    "# Grafische Analyse + Signifikanz etc.\n",
    "\n",
    "# Idee: Business Entscheidung kann auch anhand der Umfang der Transaktionen getroffen werden\n",
    "# Bsp.: amount > 1000 -> PSP mit höherer Gebühr"
   ],
   "metadata": {
    "collapsed": false,
    "ExecuteTime": {
     "end_time": "2023-10-18T20:37:45.836994Z",
     "start_time": "2023-10-18T20:37:45.766748Z"
    }
   },
   "id": "cc7d094e148292f7"
  },
  {
   "cell_type": "code",
   "execution_count": null,
   "outputs": [],
   "source": [],
   "metadata": {
    "collapsed": false
   },
   "id": "c7d1043c5e022536"
  }
 ],
 "metadata": {
  "kernelspec": {
   "display_name": "Python 3",
   "language": "python",
   "name": "python3"
  },
  "language_info": {
   "codemirror_mode": {
    "name": "ipython",
    "version": 2
   },
   "file_extension": ".py",
   "mimetype": "text/x-python",
   "name": "python",
   "nbconvert_exporter": "python",
   "pygments_lexer": "ipython2",
   "version": "2.7.6"
  }
 },
 "nbformat": 4,
 "nbformat_minor": 5
}
