{
 "cells": [
  {
   "cell_type": "markdown",
   "id": "f601d55b",
   "metadata": {},
   "source": [
    "# Basismodell: Logistic regression"
   ]
  },
  {
   "cell_type": "code",
   "execution_count": 36,
   "id": "37dceda0",
   "metadata": {
    "ExecuteTime": {
     "end_time": "2023-10-13T18:52:01.070669Z",
     "start_time": "2023-10-13T18:51:53.601549Z"
    }
   },
   "outputs": [
    {
     "data": {
      "text/plain": "   index                tmsp  country  amount  success         PSP  \\\n0      0 2019-01-01 00:01:11  Germany      89        0     UK_Card   \n1      1 2019-01-01 00:01:17  Germany      89        1     UK_Card   \n2      2 2019-01-01 00:02:49  Germany     238        0     UK_Card   \n3      3 2019-01-01 00:03:13  Germany     238        1     UK_Card   \n4      4 2019-01-01 00:04:33  Austria     124        0  Simplecard   \n\n   3D_secured    card  attempts  fee_x  ... time_of_day  fee_to_amount_ratio  \\\n0           0    Visa         1    1.0  ...       Night             0.011236   \n1           0    Visa         2    3.0  ...       Night             0.033708   \n2           1  Diners         1    1.0  ...       Night             0.004202   \n3           1  Diners         2    3.0  ...       Night             0.012605   \n4           0  Diners         1    0.5  ...       Night             0.004032   \n\n  log_amount         country_PSP  PSP_3D_secured previous_successes  \\\n0   4.499810     Germany_UK_Card       UK_Card_0                  0   \n1   4.499810     Germany_UK_Card       UK_Card_0                  1   \n2   5.476464     Germany_UK_Card       UK_Card_1                  0   \n3   5.476464     Germany_UK_Card       UK_Card_1                  1   \n4   4.828314  Austria_Simplecard    Simplecard_0                  0   \n\n  previous_failures  transaction_duration  amount_group  fee_y  \n0                 0                     0         small    1.0  \n1                 0                     0         small    3.0  \n2                 0                     0        medium    1.0  \n3                 0                     0        medium    3.0  \n4                 0                     0         small    0.5  \n\n[5 rows x 22 columns]",
      "text/html": "<div>\n<style scoped>\n    .dataframe tbody tr th:only-of-type {\n        vertical-align: middle;\n    }\n\n    .dataframe tbody tr th {\n        vertical-align: top;\n    }\n\n    .dataframe thead th {\n        text-align: right;\n    }\n</style>\n<table border=\"1\" class=\"dataframe\">\n  <thead>\n    <tr style=\"text-align: right;\">\n      <th></th>\n      <th>index</th>\n      <th>tmsp</th>\n      <th>country</th>\n      <th>amount</th>\n      <th>success</th>\n      <th>PSP</th>\n      <th>3D_secured</th>\n      <th>card</th>\n      <th>attempts</th>\n      <th>fee_x</th>\n      <th>...</th>\n      <th>time_of_day</th>\n      <th>fee_to_amount_ratio</th>\n      <th>log_amount</th>\n      <th>country_PSP</th>\n      <th>PSP_3D_secured</th>\n      <th>previous_successes</th>\n      <th>previous_failures</th>\n      <th>transaction_duration</th>\n      <th>amount_group</th>\n      <th>fee_y</th>\n    </tr>\n  </thead>\n  <tbody>\n    <tr>\n      <th>0</th>\n      <td>0</td>\n      <td>2019-01-01 00:01:11</td>\n      <td>Germany</td>\n      <td>89</td>\n      <td>0</td>\n      <td>UK_Card</td>\n      <td>0</td>\n      <td>Visa</td>\n      <td>1</td>\n      <td>1.0</td>\n      <td>...</td>\n      <td>Night</td>\n      <td>0.011236</td>\n      <td>4.499810</td>\n      <td>Germany_UK_Card</td>\n      <td>UK_Card_0</td>\n      <td>0</td>\n      <td>0</td>\n      <td>0</td>\n      <td>small</td>\n      <td>1.0</td>\n    </tr>\n    <tr>\n      <th>1</th>\n      <td>1</td>\n      <td>2019-01-01 00:01:17</td>\n      <td>Germany</td>\n      <td>89</td>\n      <td>1</td>\n      <td>UK_Card</td>\n      <td>0</td>\n      <td>Visa</td>\n      <td>2</td>\n      <td>3.0</td>\n      <td>...</td>\n      <td>Night</td>\n      <td>0.033708</td>\n      <td>4.499810</td>\n      <td>Germany_UK_Card</td>\n      <td>UK_Card_0</td>\n      <td>1</td>\n      <td>0</td>\n      <td>0</td>\n      <td>small</td>\n      <td>3.0</td>\n    </tr>\n    <tr>\n      <th>2</th>\n      <td>2</td>\n      <td>2019-01-01 00:02:49</td>\n      <td>Germany</td>\n      <td>238</td>\n      <td>0</td>\n      <td>UK_Card</td>\n      <td>1</td>\n      <td>Diners</td>\n      <td>1</td>\n      <td>1.0</td>\n      <td>...</td>\n      <td>Night</td>\n      <td>0.004202</td>\n      <td>5.476464</td>\n      <td>Germany_UK_Card</td>\n      <td>UK_Card_1</td>\n      <td>0</td>\n      <td>0</td>\n      <td>0</td>\n      <td>medium</td>\n      <td>1.0</td>\n    </tr>\n    <tr>\n      <th>3</th>\n      <td>3</td>\n      <td>2019-01-01 00:03:13</td>\n      <td>Germany</td>\n      <td>238</td>\n      <td>1</td>\n      <td>UK_Card</td>\n      <td>1</td>\n      <td>Diners</td>\n      <td>2</td>\n      <td>3.0</td>\n      <td>...</td>\n      <td>Night</td>\n      <td>0.012605</td>\n      <td>5.476464</td>\n      <td>Germany_UK_Card</td>\n      <td>UK_Card_1</td>\n      <td>1</td>\n      <td>0</td>\n      <td>0</td>\n      <td>medium</td>\n      <td>3.0</td>\n    </tr>\n    <tr>\n      <th>4</th>\n      <td>4</td>\n      <td>2019-01-01 00:04:33</td>\n      <td>Austria</td>\n      <td>124</td>\n      <td>0</td>\n      <td>Simplecard</td>\n      <td>0</td>\n      <td>Diners</td>\n      <td>1</td>\n      <td>0.5</td>\n      <td>...</td>\n      <td>Night</td>\n      <td>0.004032</td>\n      <td>4.828314</td>\n      <td>Austria_Simplecard</td>\n      <td>Simplecard_0</td>\n      <td>0</td>\n      <td>0</td>\n      <td>0</td>\n      <td>small</td>\n      <td>0.5</td>\n    </tr>\n  </tbody>\n</table>\n<p>5 rows × 22 columns</p>\n</div>"
     },
     "execution_count": 36,
     "metadata": {},
     "output_type": "execute_result"
    }
   ],
   "source": [
    "import pandas as pd\n",
    "import numpy as np\n",
    "import seaborn as sns\n",
    "import matplotlib.pyplot as plt\n",
    "from sklearn.model_selection import train_test_split\n",
    "from sklearn.preprocessing import StandardScaler, LabelEncoder\n",
    "from sklearn.linear_model import LogisticRegression\n",
    "from sklearn.metrics import accuracy_score, confusion_matrix, classification_report\n",
    "from sklearn.pipeline import Pipeline\n",
    "from xgboost import XGBClassifier\n",
    "\n",
    "\n",
    "# Load data\n",
    "df_model_data = pd.read_excel('../data/processed/PSP_model_data.xlsx')\n",
    "df_fees = pd.read_excel('../data/raw/PSP_Fees.xlsx')\n",
    "\n",
    "# Show the first few rows of each dataset to understand the structure\n",
    "df_model_data.head(), df_fees.head()\n",
    "\n",
    "# Merge the model data with the fees data\n",
    "df_merged = pd.merge(df_model_data, df_fees, how='left', on=['PSP', 'success'])\n",
    "\n",
    "# Show the first few rows of the merged dataset\n",
    "df_merged.head()"
   ]
  },
  {
   "cell_type": "code",
   "execution_count": 37,
   "id": "6c04fda1",
   "metadata": {
    "ExecuteTime": {
     "end_time": "2023-10-13T18:52:01.128395Z",
     "start_time": "2023-10-13T18:52:01.095590Z"
    }
   },
   "outputs": [
    {
     "data": {
      "text/plain": "    country    amount       PSP  3D_secured      card   weekday  time_of_day  \\\n0 -0.015475 -0.647278 -0.248014   -0.561389  1.481725 -1.540419    -0.444938   \n1 -0.015475 -0.470256 -0.248014   -0.561389 -0.057004  1.382030     0.446840   \n2  1.564492 -0.626452 -2.373362   -0.561389 -0.057004  0.894955     0.446840   \n3  1.564492  0.748067 -0.248014   -0.561389 -0.057004  1.382030    -0.444938   \n4  1.564492 -0.980494 -0.248014   -0.561389 -1.595733 -0.566269    -1.336716   \n\n   country_PSP  PSP_3D_secured  amount_group  \n0    -0.101105       -0.366451      1.218614  \n1    -0.101105       -0.366451      1.218614  \n2     0.640776       -2.441463      1.218614  \n3     1.382657       -0.366451     -1.235409  \n4     1.382657       -0.366451      1.218614  ",
      "text/html": "<div>\n<style scoped>\n    .dataframe tbody tr th:only-of-type {\n        vertical-align: middle;\n    }\n\n    .dataframe tbody tr th {\n        vertical-align: top;\n    }\n\n    .dataframe thead th {\n        text-align: right;\n    }\n</style>\n<table border=\"1\" class=\"dataframe\">\n  <thead>\n    <tr style=\"text-align: right;\">\n      <th></th>\n      <th>country</th>\n      <th>amount</th>\n      <th>PSP</th>\n      <th>3D_secured</th>\n      <th>card</th>\n      <th>weekday</th>\n      <th>time_of_day</th>\n      <th>country_PSP</th>\n      <th>PSP_3D_secured</th>\n      <th>amount_group</th>\n    </tr>\n  </thead>\n  <tbody>\n    <tr>\n      <th>0</th>\n      <td>-0.015475</td>\n      <td>-0.647278</td>\n      <td>-0.248014</td>\n      <td>-0.561389</td>\n      <td>1.481725</td>\n      <td>-1.540419</td>\n      <td>-0.444938</td>\n      <td>-0.101105</td>\n      <td>-0.366451</td>\n      <td>1.218614</td>\n    </tr>\n    <tr>\n      <th>1</th>\n      <td>-0.015475</td>\n      <td>-0.470256</td>\n      <td>-0.248014</td>\n      <td>-0.561389</td>\n      <td>-0.057004</td>\n      <td>1.382030</td>\n      <td>0.446840</td>\n      <td>-0.101105</td>\n      <td>-0.366451</td>\n      <td>1.218614</td>\n    </tr>\n    <tr>\n      <th>2</th>\n      <td>1.564492</td>\n      <td>-0.626452</td>\n      <td>-2.373362</td>\n      <td>-0.561389</td>\n      <td>-0.057004</td>\n      <td>0.894955</td>\n      <td>0.446840</td>\n      <td>0.640776</td>\n      <td>-2.441463</td>\n      <td>1.218614</td>\n    </tr>\n    <tr>\n      <th>3</th>\n      <td>1.564492</td>\n      <td>0.748067</td>\n      <td>-0.248014</td>\n      <td>-0.561389</td>\n      <td>-0.057004</td>\n      <td>1.382030</td>\n      <td>-0.444938</td>\n      <td>1.382657</td>\n      <td>-0.366451</td>\n      <td>-1.235409</td>\n    </tr>\n    <tr>\n      <th>4</th>\n      <td>1.564492</td>\n      <td>-0.980494</td>\n      <td>-0.248014</td>\n      <td>-0.561389</td>\n      <td>-1.595733</td>\n      <td>-0.566269</td>\n      <td>-1.336716</td>\n      <td>1.382657</td>\n      <td>-0.366451</td>\n      <td>1.218614</td>\n    </tr>\n  </tbody>\n</table>\n</div>"
     },
     "execution_count": 37,
     "metadata": {},
     "output_type": "execute_result"
    }
   ],
   "source": [
    "# Drop columns that won't be used in the model\n",
    "drop_columns = ['index', 'tmsp', 'hour', 'attempts', 'fee_x', 'fee_to_amount_ratio', 'log_amount', 'previous_successes', 'previous_failures', 'transaction_duration', 'fee_y']\n",
    "df_model = df_merged.drop(columns=drop_columns)\n",
    "\n",
    "# Encode categorical variables\n",
    "label_columns = ['country', 'PSP', 'card', 'weekday', 'time_of_day', 'country_PSP', 'PSP_3D_secured', 'amount_group']\n",
    "label_encoder = LabelEncoder()\n",
    "for col in label_columns:\n",
    "    df_model[col] = label_encoder.fit_transform(df_model[col].astype(str))\n",
    "\n",
    "# Split the data into training and test sets\n",
    "X = df_model.drop('success', axis=1)\n",
    "y = df_model['success']\n",
    "X_train, X_test, y_train, y_test = train_test_split(X, y, test_size=0.2, random_state=42, stratify=y)\n",
    "\n",
    "# Scale the features\n",
    "scaler = StandardScaler()\n",
    "X_train_scaled = scaler.fit_transform(X_train)\n",
    "X_test_scaled = scaler.transform(X_test)\n",
    "\n",
    "# Show the first few rows of the scaled training data\n",
    "pd.DataFrame(X_train_scaled, columns=X_train.columns).head()"
   ]
  },
  {
   "cell_type": "code",
   "execution_count": 38,
   "id": "f39dec4cf19c4e4",
   "metadata": {
    "ExecuteTime": {
     "end_time": "2023-10-13T18:52:01.250282Z",
     "start_time": "2023-10-13T18:52:01.129914Z"
    }
   },
   "outputs": [
    {
     "name": "stdout",
     "output_type": "stream",
     "text": [
      "0.7970640745883754\n",
      "[[8036    0]\n",
      " [2046    0]]\n",
      "              precision    recall  f1-score   support\n",
      "\n",
      "           0       0.80      1.00      0.89      8036\n",
      "           1       0.00      0.00      0.00      2046\n",
      "\n",
      "    accuracy                           0.80     10082\n",
      "   macro avg       0.40      0.50      0.44     10082\n",
      "weighted avg       0.64      0.80      0.71     10082\n"
     ]
    },
    {
     "name": "stderr",
     "output_type": "stream",
     "text": [
      "/Users/christopheressmann/.conda/envs/bin/lib/python3.10/site-packages/sklearn/metrics/_classification.py:1469: UndefinedMetricWarning: Precision and F-score are ill-defined and being set to 0.0 in labels with no predicted samples. Use `zero_division` parameter to control this behavior.\n",
      "  _warn_prf(average, modifier, msg_start, len(result))\n",
      "/Users/christopheressmann/.conda/envs/bin/lib/python3.10/site-packages/sklearn/metrics/_classification.py:1469: UndefinedMetricWarning: Precision and F-score are ill-defined and being set to 0.0 in labels with no predicted samples. Use `zero_division` parameter to control this behavior.\n",
      "  _warn_prf(average, modifier, msg_start, len(result))\n",
      "/Users/christopheressmann/.conda/envs/bin/lib/python3.10/site-packages/sklearn/metrics/_classification.py:1469: UndefinedMetricWarning: Precision and F-score are ill-defined and being set to 0.0 in labels with no predicted samples. Use `zero_division` parameter to control this behavior.\n",
      "  _warn_prf(average, modifier, msg_start, len(result))\n"
     ]
    }
   ],
   "source": [
    "# Initialize and train the logistic regression model\n",
    "log_reg_model = LogisticRegression(random_state=42)\n",
    "log_reg_model.fit(X_train_scaled, y_train)\n",
    "\n",
    "# Make predictions on the test set\n",
    "y_pred = log_reg_model.predict(X_test_scaled)\n",
    "\n",
    "# Get the probabilities of success\n",
    "y_prob = log_reg_model.predict_proba(X_test_scaled)[:, 1]\n",
    "\n",
    "# Evaluate the model\n",
    "accuracy = accuracy_score(y_test, y_pred)\n",
    "conf_matrix = confusion_matrix(y_test, y_pred)\n",
    "class_report = classification_report(y_test, y_pred)\n",
    "\n",
    "print(accuracy)\n",
    "print(conf_matrix)\n",
    "print(class_report)"
   ]
  },
  {
   "cell_type": "code",
   "execution_count": 39,
   "outputs": [
    {
     "data": {
      "text/plain": "<Figure size 600x600 with 1 Axes>",
      "image/png": "[encoded data removed]"
     },
     "metadata": {},
     "output_type": "display_data"
    }
   ],
   "source": [
    "# Plot the confusion matrix\n",
    "plt.figure(figsize=(6, 6))\n",
    "plt.title('Confusion Matrix')\n",
    "sns.heatmap(conf_matrix, annot=True, fmt='d', cmap='Blues', cbar=False)\n",
    "\n",
    "# Achsentitel hinzufügen\n",
    "plt.xlabel('True Label')\n",
    "plt.ylabel('Predicted Label')\n",
    "\n",
    "plt.show()"
   ],
   "metadata": {
    "collapsed": false,
    "ExecuteTime": {
     "end_time": "2023-10-13T18:52:01.312613Z",
     "start_time": "2023-10-13T18:52:01.232604Z"
    }
   },
   "id": "db620fc3"
  },
  {
   "cell_type": "markdown",
   "id": "87f436db",
   "metadata": {},
   "source": [
    "# Feature importance"
   ]
  },
  {
   "cell_type": "code",
   "execution_count": null,
   "id": "4c5665e0",
   "metadata": {
    "ExecuteTime": {
     "start_time": "2023-10-13T18:52:01.380360Z"
    }
   },
   "outputs": [],
   "source": [
    "# Get the feature importances from the logistic regression model\n",
    "feature_importance = log_reg_model.coef_[0]\n",
    "\n",
    "# Create a DataFrame for the feature importances\n",
    "df_feature_importance = pd.DataFrame({\n",
    "    'Feature': X_train.columns,\n",
    "    'Importance': feature_importance\n",
    "})\n",
    "\n",
    "# Sort the DataFrame by the importances\n",
    "df_feature_importance = df_feature_importance.sort_values('Importance', ascending=False)\n",
    "\n",
    "# Plot the feature importances\n",
    "plt.figure(figsize=(10, 8))\n",
    "plt.barh(df_feature_importance['Feature'], df_feature_importance['Importance'])\n",
    "plt.xlabel('Importance')\n",
    "plt.ylabel('Feature')\n",
    "plt.title('Feature Importance in Logistic Regression Model')\n",
    "plt.show()"
   ]
  },
  {
   "cell_type": "markdown",
   "id": "df0d0cd8",
   "metadata": {},
   "source": [
    "# XGBoost classifier"
   ]
  },
  {
   "cell_type": "code",
   "execution_count": 75,
   "id": "980e4cf0559abf60",
   "metadata": {
    "ExecuteTime": {
     "end_time": "2023-10-13T19:46:33.588610Z",
     "start_time": "2023-10-13T19:46:33.529529Z"
    }
   },
   "outputs": [],
   "source": [
    "# Drop columns that won't be used in the model\n",
    "drop_columns = ['index', 'tmsp', 'hour', 'attempts', 'fee', 'fee_to_amount_ratio', \n",
    "                'log_amount', 'previous_successes', 'previous_failures', 'transaction_duration']\n",
    "df_model = df_model_data.drop(columns=drop_columns)\n",
    "\n",
    "# Encode categorical variables\n",
    "label_columns = ['country', 'PSP', 'card', 'weekday', 'time_of_day', \n",
    "                 'country_PSP', 'PSP_3D_secured', 'amount_group']\n",
    "label_encoder = LabelEncoder()\n",
    "for col in label_columns:\n",
    "    df_model[col] = label_encoder.fit_transform(df_model[col].astype(str))\n",
    "\n",
    "# Split the data into training and test sets\n",
    "X = df_model.drop('success', axis=1)\n",
    "y = df_model['success']\n",
    "X_train, X_test, y_train, y_test = train_test_split(X, y, test_size=0.25, random_state=42, stratify=y)"
   ]
  },
  {
   "cell_type": "code",
   "execution_count": 76,
   "outputs": [
    {
     "name": "stdout",
     "output_type": "stream",
     "text": [
      "0.7936999127191938\n",
      "[[9841  205]\n",
      " [2395  162]]\n",
      "              precision    recall  f1-score   support\n",
      "\n",
      "           0       0.80      0.98      0.88     10046\n",
      "           1       0.44      0.06      0.11      2557\n",
      "\n",
      "    accuracy                           0.79     12603\n",
      "   macro avg       0.62      0.52      0.50     12603\n",
      "weighted avg       0.73      0.79      0.73     12603\n"
     ]
    }
   ],
   "source": [
    "# Initialize and train the XGBoost model\n",
    "xgb_model = XGBClassifier(random_state=42)\n",
    "xgb_model.fit(X_train, y_train)\n",
    "\n",
    "# Make predictions on the test set\n",
    "y_pred_xgb = xgb_model.predict(X_test)\n",
    "\n",
    "# Get the probabilities of success\n",
    "y_prob_xgb = xgb_model.predict_proba(X_test)[:, 1]\n",
    "\n",
    "# Evaluate the model\n",
    "accuracy_xgb = accuracy_score(y_test, y_pred_xgb)\n",
    "conf_matrix_xgb = confusion_matrix(y_test, y_pred_xgb)\n",
    "class_report_xgb = classification_report(y_test, y_pred_xgb)\n",
    "\n",
    "print(accuracy_xgb) \n",
    "print(conf_matrix_xgb)\n",
    "print(class_report_xgb)"
   ],
   "metadata": {
    "collapsed": false,
    "ExecuteTime": {
     "end_time": "2023-10-13T19:46:35.060321Z",
     "start_time": "2023-10-13T19:46:34.420882Z"
    }
   },
   "id": "5069c7bc"
  },
  {
   "cell_type": "code",
   "execution_count": 77,
   "id": "aac71f34",
   "metadata": {
    "ExecuteTime": {
     "end_time": "2023-10-13T19:47:16.425150Z",
     "start_time": "2023-10-13T19:47:16.332095Z"
    }
   },
   "outputs": [
    {
     "data": {
      "text/plain": "<Figure size 1000x800 with 1 Axes>",
      "image/png": "[encoded data removed]"
     },
     "metadata": {},
     "output_type": "display_data"
    }
   ],
   "source": [
    "# Feature importance\n",
    "# Get the feature importances from the XGBoost model\n",
    "feature_importance_xgb = xgb_model.feature_importances_\n",
    "\n",
    "# Create a DataFrame for the feature importances\n",
    "df_feature_importance_xgb = pd.DataFrame({\n",
    "    'Feature': X_train.columns,\n",
    "    'Importance': feature_importance_xgb\n",
    "})\n",
    "\n",
    "# Sort the DataFrame by the importances\n",
    "df_feature_importance_xgb = df_feature_importance_xgb.sort_values('Importance', ascending=False)\n",
    "\n",
    "# Plot the feature importances\n",
    "plt.figure(figsize=(10, 8))\n",
    "plt.barh(df_feature_importance_xgb['Feature'], df_feature_importance_xgb['Importance'])\n",
    "plt.xlabel('Importance')\n",
    "plt.ylabel('Feature')\n",
    "plt.title('Feature Importance in XGBoost Model')\n",
    "plt.show()"
   ]
  },
  {
   "cell_type": "markdown",
   "source": [
    "# Prediction for real usecase"
   ],
   "metadata": {
    "collapsed": false
   },
   "id": "79dc6ee5bd9b8ebb"
  },
  {
   "cell_type": "code",
   "execution_count": 78,
   "id": "b9fa6d07",
   "metadata": {
    "ExecuteTime": {
     "end_time": "2023-10-13T19:47:18.943372Z",
     "start_time": "2023-10-13T19:47:18.939206Z"
    }
   },
   "outputs": [],
   "source": [
    "def replicate_dataframe_with_values(df, col, new_value):\n",
    "    \"\"\"\n",
    "    Replicates the DataFrame df for each value in N and sets the 'PSP' column\n",
    "    with the corresponding value.\n",
    "    \n",
    "    Parameters:\n",
    "    - df: Original DataFrame\n",
    "    - col: Name of the column to update\n",
    "    - new_values: List or array of values to set in the specified column\n",
    "    \n",
    "    Returns:\n",
    "    - concatenated_df: A DataFrame containing all the replicated DataFrames\n",
    "    \"\"\"\n",
    "    dfs = []  # List to store the replicated DataFrames\n",
    "\n",
    "    for value in new_value:\n",
    "        new_df = df.copy()  # Create a copy of the original DataFrame\n",
    "        new_df[col] = value  # Set the column with the new value\n",
    "        dfs.append(new_df)  # Add the new DataFrame to the list\n",
    "\n",
    "    # Concatenate all the replicated DataFrames into one\n",
    "    concatenated_df = pd.concat(dfs, ignore_index=True)\n",
    "\n",
    "    return concatenated_df"
   ]
  },
  {
   "cell_type": "code",
   "execution_count": 91,
   "id": "85976a80",
   "metadata": {
    "ExecuteTime": {
     "end_time": "2023-10-13T20:00:15.832172Z",
     "start_time": "2023-10-13T20:00:15.797137Z"
    }
   },
   "outputs": [],
   "source": [
    "# Expand data for all PSP\n",
    "X_test['ID'] = X_test.index\n",
    "df_test_psp = replicate_dataframe_with_values(X_test, 'PSP', new_value=['UK_Card', 'Simplecard', 'Moneycard', 'Goldcard'])\n",
    "\n",
    "# Merge the model data with the fees data\n",
    "df_test_psp = pd.merge(df_test_psp, df_fees.loc[df_fees['success'] == 1, ['PSP','fee']], \n",
    "                       how='left', on='PSP')\n",
    "df_test_psp['PSP_txt'] = df_test_psp['PSP']\n",
    "\n",
    "# Prepare data for modelinput\n",
    "df_test_psp['PSP'] = label_encoder.fit_transform(df_test_psp['PSP'].astype(str))\n",
    "\n",
    "# Get the probabilities of success\n",
    "df_test_psp['prob_xgb'] = xgb_model.predict_proba(df_test_psp.drop(columns=['ID', 'fee', 'PSP_txt']))[:, 1]"
   ]
  },
  {
   "cell_type": "code",
   "execution_count": 102,
   "id": "569ec77d",
   "metadata": {
    "ExecuteTime": {
     "end_time": "2023-10-13T20:18:49.279284Z",
     "start_time": "2023-10-13T20:18:49.269606Z"
    }
   },
   "outputs": [
    {
     "data": {
      "text/plain": "       country  amount  PSP  3D_secured  card  weekday  time_of_day  \\\n12           1     238    3           1     0        5            3   \n12615        1     238    2           1     0        5            3   \n25218        1     238    1           1     0        5            3   \n37821        1     238    0           1     0        5            3   \n\n       country_PSP  PSP_3D_secured  amount_group  ID   fee     PSP_txt  \\\n12               7               7             1   3   3.0     UK_Card   \n12615            7               7             1   3   1.0  Simplecard   \n25218            7               7             1   3   5.0   Moneycard   \n37821            7               7             1   3  10.0    Goldcard   \n\n       prob_xgb  prob_fee_rario  \n12     0.150714        0.794358  \n12615  0.202309        0.727922  \n25218  0.332409        0.650832  \n37821  0.590919        0.468173  ",
      "text/html": "<div>\n<style scoped>\n    .dataframe tbody tr th:only-of-type {\n        vertical-align: middle;\n    }\n\n    .dataframe tbody tr th {\n        vertical-align: top;\n    }\n\n    .dataframe thead th {\n        text-align: right;\n    }\n</style>\n<table border=\"1\" class=\"dataframe\">\n  <thead>\n    <tr style=\"text-align: right;\">\n      <th></th>\n      <th>country</th>\n      <th>amount</th>\n      <th>PSP</th>\n      <th>3D_secured</th>\n      <th>card</th>\n      <th>weekday</th>\n      <th>time_of_day</th>\n      <th>country_PSP</th>\n      <th>PSP_3D_secured</th>\n      <th>amount_group</th>\n      <th>ID</th>\n      <th>fee</th>\n      <th>PSP_txt</th>\n      <th>prob_xgb</th>\n      <th>prob_fee_rario</th>\n    </tr>\n  </thead>\n  <tbody>\n    <tr>\n      <th>12</th>\n      <td>1</td>\n      <td>238</td>\n      <td>3</td>\n      <td>1</td>\n      <td>0</td>\n      <td>5</td>\n      <td>3</td>\n      <td>7</td>\n      <td>7</td>\n      <td>1</td>\n      <td>3</td>\n      <td>3.0</td>\n      <td>UK_Card</td>\n      <td>0.150714</td>\n      <td>0.794358</td>\n    </tr>\n    <tr>\n      <th>12615</th>\n      <td>1</td>\n      <td>238</td>\n      <td>2</td>\n      <td>1</td>\n      <td>0</td>\n      <td>5</td>\n      <td>3</td>\n      <td>7</td>\n      <td>7</td>\n      <td>1</td>\n      <td>3</td>\n      <td>1.0</td>\n      <td>Simplecard</td>\n      <td>0.202309</td>\n      <td>0.727922</td>\n    </tr>\n    <tr>\n      <th>25218</th>\n      <td>1</td>\n      <td>238</td>\n      <td>1</td>\n      <td>1</td>\n      <td>0</td>\n      <td>5</td>\n      <td>3</td>\n      <td>7</td>\n      <td>7</td>\n      <td>1</td>\n      <td>3</td>\n      <td>5.0</td>\n      <td>Moneycard</td>\n      <td>0.332409</td>\n      <td>0.650832</td>\n    </tr>\n    <tr>\n      <th>37821</th>\n      <td>1</td>\n      <td>238</td>\n      <td>0</td>\n      <td>1</td>\n      <td>0</td>\n      <td>5</td>\n      <td>3</td>\n      <td>7</td>\n      <td>7</td>\n      <td>1</td>\n      <td>3</td>\n      <td>10.0</td>\n      <td>Goldcard</td>\n      <td>0.590919</td>\n      <td>0.468173</td>\n    </tr>\n  </tbody>\n</table>\n</div>"
     },
     "execution_count": 102,
     "metadata": {},
     "output_type": "execute_result"
    }
   ],
   "source": [
    "# Calculate expected value per ID\n",
    "fee_factor = 0.1\n",
    "df_test_psp['prob_fee_rario'] = ((1-fee_factor) * (1-df_test_psp['prob_xgb'])) + (fee_factor * df_test_psp['fee'] / 10)\n",
    "df_test_psp[df_test_psp['ID'] == 3]\n",
    "\n",
    "# Idee: prob_xgb mit einem Faktor anhand der Fee verändern -> Kann vom Fachbereich gesetzt werden\n",
    "# Balance zwischen erfolgreichen Zahlungen und Gebühren\n",
    "\n",
    "# Idee Controlling:\n",
    "# Durchschnittliche Gebühren und Erfolg je Tag oder Woche\n",
    "# Dann Vergleich mit neuem Modell\n",
    "# Grafische Analyse + Signifikanz etc."
   ]
  },
  {
   "cell_type": "code",
   "execution_count": 73,
   "outputs": [
    {
     "ename": "SyntaxError",
     "evalue": "cannot assign to literal here. Maybe you meant '==' instead of '='? (3922340062.py, line 1)",
     "output_type": "error",
     "traceback": [
      "\u001B[0;36m  Cell \u001B[0;32mIn[73], line 1\u001B[0;36m\u001B[0m\n\u001B[0;31m    df_fees.loc[df_fees['success'] == 1, ['PSP','fee_s' = 'fee']]\u001B[0m\n\u001B[0m                                                ^\u001B[0m\n\u001B[0;31mSyntaxError\u001B[0m\u001B[0;31m:\u001B[0m cannot assign to literal here. Maybe you meant '==' instead of '='?\n"
     ]
    }
   ],
   "source": [],
   "metadata": {
    "collapsed": false,
    "ExecuteTime": {
     "end_time": "2023-10-13T19:42:24.645796Z",
     "start_time": "2023-10-13T19:42:24.640630Z"
    }
   },
   "id": "3077b351db810654"
  },
  {
   "cell_type": "code",
   "execution_count": null,
   "outputs": [],
   "source": [],
   "metadata": {
    "collapsed": false
   },
   "id": "2bb7537923f5f6ad"
  }
 ],
 "metadata": {
  "kernelspec": {
   "display_name": "Python 3 (ipykernel)",
   "language": "python",
   "name": "python3"
  },
  "language_info": {
   "codemirror_mode": {
    "name": "ipython",
    "version": 3
   },
   "file_extension": ".py",
   "mimetype": "text/x-python",
   "name": "python",
   "nbconvert_exporter": "python",
   "pygments_lexer": "ipython3",
   "version": "3.10.9"
  }
 },
 "nbformat": 4,
 "nbformat_minor": 5
}
